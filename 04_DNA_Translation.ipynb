{
  "cells": [
    {
      "cell_type": "markdown",
      "metadata": {
        "id": "view-in-github",
        "colab_type": "text"
      },
      "source": [
        "<a href=\"https://colab.research.google.com/github/mohamedyosef101/Python-for-AI/blob/main/04_DNA_Translation.ipynb\" target=\"_parent\"><img src=\"https://colab.research.google.com/assets/colab-badge.svg\" alt=\"Open In Colab\"/></a>"
      ]
    },
    {
      "cell_type": "markdown",
      "source": [
        "# Translation Theory : DNA ? RNA ? Protein"
      ],
      "metadata": {
        "id": "g5touMUcDqSo"
      },
      "id": "g5touMUcDqSo"
    },
    {
      "cell_type": "markdown",
      "source": [
        "\n",
        "Life depends on the ability of cells to store, retrieve, and translate genetic instructions.These instructions are needed to make and maintain living organisms. For a long time, it was not clear what molecules were able to copy and transmit genetic information. We now know that this information is carried by the deoxyribonucleic acid or DNA in all living things.\n",
        "\n",
        "**DNA:** DNA is a discrete code physically present in almost every cell of an organism. We can think of DNA as a one dimensional string of characters with four characters to choose from. These characters are A, C, G, and T. They stand for the first letters with the four nucleotides used to construct DNA. The full names of these nucleotides are Adenine, Cytosine, Guanine, and Thymine. Each unique three character sequence of nucleotides, sometimes called a nucleotide triplet, corresponds to one amino acid. The sequence of amino acids is unique for each type of protein and all proteins are built from the same set of just 20 amino acids for all living things.\n",
        "\n",
        "Instructions in the DNA are first transcribed into RNA and the RNA is then translated into proteins. We can think of DNA, when read as sequences of three letters, as a dictionary of life.\n",
        "\n",
        "**Aim:** Convert a given sequence of DNA into its Protein equivalent.\n",
        "\n",
        "**File:** Download a DNA strand as a text file from a public web-based repository of DNA sequences from [**NCBI**](https://www.ncbi.nlm.nih.gov/).The Nucleotide sample is ( NM_207618.2 ), which can be found [**here**](https://www.ncbi.nlm.nih.gov/nuccore/NM_207618.2).\n",
        "\n",
        "**Sources:** I took the project idea from [HarvardX Python for Research](https://courses.edx.org/courses/course-v1:HarvardX+PH526x+3T2016/info) course on edX. Also, I used some content from an [article by GeeksforGeeks](https://www.geeksforgeeks.org/dna-protein-python-3/)."
      ],
      "metadata": {
        "id": "OsBvzwpqDmAF"
      },
      "id": "OsBvzwpqDmAF"
    },
    {
      "cell_type": "markdown",
      "source": [
        "## Project overview\n",
        "### **The goal:**\n",
        "Translating the DNA sequence into amino acids.\n",
        "\n",
        "```\n",
        "ATA -> I\n",
        "ATG -> M\n",
        "CAA -> Q\n",
        "TCT -> S\n",
        "TGG -> W\n",
        "```\n",
        "\n",
        "### What we need to do..\n",
        "\n",
        "1. Download a DNA sequence from NCBI\n",
        "2. Translate the DNA sequence into amino acids.\n",
        "3. Download amino acid sequence to check our solution.\n",
        "\n",
        "### Tasks\n",
        "\n",
        "1. Manually download DNA and  protein sequence data.\n",
        "2. Import the DNA data into Python.\n",
        "3. Create an algorithm to translate the DNA.\n",
        "4. Check if translation matches your download."
      ],
      "metadata": {
        "id": "Xc2CLIftFKpy"
      },
      "id": "Xc2CLIftFKpy"
    },
    {
      "cell_type": "markdown",
      "source": [
        "## Download and read the data\n",
        "\n",
        "- Download two files; first one is Strand of DNA while the other is the corresponding protein sequence.\n",
        "    - Choose a Nucleotide database type instead of “all databases”.\n",
        "    - In the search field, write “NM_207618.2” and hit search.\n",
        "    - At the top of the page found and click on the word “FASTA”\n",
        "    - Using your mouse and cursor to copy the Strand of DNA and save it in a .txt file.\n",
        "    - Go back the data page and click on “CDS” to download the corresponding protein sequence."
      ],
      "metadata": {
        "id": "6x6y1MSHGV6i"
      },
      "id": "6x6y1MSHGV6i"
    },
    {
      "cell_type": "code",
      "source": [
        "%%writefile dna.txt\n",
        "GGTCAGAAAAAGCCCTCTCCATGTCTACTCACGATACATCCCTGAAAACCACTGAGGAAGTGGCTTTTCA\n",
        "GATCATCTTGCTTTGCCAGTTTGGGGTTGGGACTTTTGCCAATGTATTTCTCTTTGTCTATAATTTCTCT\n",
        "CCAATCTCGACTGGTTCTAAACAGAGGCCCAGACAAGTGATTTTAAGACACATGGCTGTGGCCAATGCCT\n",
        "TAACTCTCTTCCTCACTATATTTCCAAACAACATGATGACTTTTGCTCCAATTATTCCTCAAACTGACCT\n",
        "CAAATGTAAATTAGAATTCTTCACTCGCCTCGTGGCAAGAAGCACAAACTTGTGTTCAACTTGTGTTCTG\n",
        "AGTATCCATCAGTTTGTCACACTTGTTCCTGTTAATTCAGGTAAAGGAATACTCAGAGCAAGTGTCACAA\n",
        "ACATGGCAAGTTATTCTTGTTACAGTTGTTGGTTCTTCAGTGTCTTAAATAACATCTACATTCCAATTAA\n",
        "GGTCACTGGTCCACAGTTAACAGACAATAACAATAACTCTAAAAGCAAGTTGTTCTGTTCCACTTCTGAT\n",
        "TTCAGTGTAGGCATTGTCTTCTTGAGGTTTGCCCATGATGCCACATTCATGAGCATCATGGTCTGGACCA\n",
        "GTGTCTCCATGGTACTTCTCCTCCATAGACATTGTCAGAGAATGCAGTACATATTCACTCTCAATCAGGA\n",
        "CCCCAGGGGCCAAGCAGAGACCACAGCAACCCATACTATCCTGATGCTGGTAGTCACATTTGTTGGCTTT\n",
        "TATCTTCTAAGTCTTATTTGTATCATCTTTTACACCTATTTTATATATTCTCATCATTCCCTGAGGCATT\n",
        "GCAATGACATTTTGGTTTCGGGTTTCCCTACAATTTCTCCTTTACTGTTGACCTTCAGAGACCCTAAGGG\n",
        "TCCTTGTTCTGTGTTCTTCAACTGTTGAAAGCCAGAGTCACTAAAAATGCCAAACACAGAAGACAGCTTT\n",
        "GCTAATACCATTAAATACTTTATTCCATAAATATGTTTTTAAAAGCTTGTATGAACAAGGTATGGTGCTC\n",
        "ACTGCTATACTTATAAAAGAGTAAGGTTATAATCACTTGTTGATATGAAAAGATTTCTGGTTGGAATCTG\n",
        "ATTGAAACAGTGAGTTATTCACCACCCTCCATTCTCT"
      ],
      "metadata": {
        "id": "mJxaDVK7Ry_K",
        "outputId": "72f30323-f27e-4ae3-a619-fa9ce49c7cfd",
        "colab": {
          "base_uri": "https://localhost:8080/"
        }
      },
      "id": "mJxaDVK7Ry_K",
      "execution_count": 1,
      "outputs": [
        {
          "output_type": "stream",
          "name": "stdout",
          "text": [
            "Writing dna.txt\n"
          ]
        }
      ]
    },
    {
      "cell_type": "code",
      "source": [
        "%%writefile protein.txt\n",
        "MSTHDTSLKTTEEVAFQIILLCQFGVGTFANVFLFVYNFSPIST\n",
        "GSKQRPRQVILRHMAVANALTLFLTIFPNNMMTFAPIIPQTDLKCKLEFFTRLVARST\n",
        "NLCSTCVLSIHQFVTLVPVNSGKGILRASVTNMASYSCYSCWFFSVLNNIYIPIKVTG\n",
        "PQLTDNNNNSKSKLFCSTSDFSVGIVFLRFAHDATFMSIMVWTSVSMVLLLHRHCQRM\n",
        "QYIFTLNQDPRGQAETTATHTILMLVVTFVGFYLLSLICIIFYTYFIYSHHSLRHCND\n",
        "ILVSGFPTISPLLLTFRDPKGPCSVFFNC"
      ],
      "metadata": {
        "id": "HtQ2yRlNR-eI"
      },
      "id": "HtQ2yRlNR-eI",
      "execution_count": null,
      "outputs": []
    },
    {
      "cell_type": "markdown",
      "source": [
        "- Read the files"
      ],
      "metadata": {
        "id": "cwEgs87wSFBE"
      },
      "id": "cwEgs87wSFBE"
    },
    {
      "cell_type": "code",
      "source": [
        "inputfile = \"dna.txt\"\n",
        "f = open(inputfile, \"r\") # r for reading\n",
        "seq = f.read()\n",
        "print(seq)"
      ],
      "metadata": {
        "id": "QtPczHmhSPMm",
        "outputId": "5873542d-716a-428c-c247-e4844c63abc1",
        "colab": {
          "base_uri": "https://localhost:8080/"
        }
      },
      "id": "QtPczHmhSPMm",
      "execution_count": 4,
      "outputs": [
        {
          "output_type": "stream",
          "name": "stdout",
          "text": [
            "GGTCAGAAAAAGCCCTCTCCATGTCTACTCACGATACATCCCTGAAAACCACTGAGGAAGTGGCTTTTCA\n",
            "GATCATCTTGCTTTGCCAGTTTGGGGTTGGGACTTTTGCCAATGTATTTCTCTTTGTCTATAATTTCTCT\n",
            "CCAATCTCGACTGGTTCTAAACAGAGGCCCAGACAAGTGATTTTAAGACACATGGCTGTGGCCAATGCCT\n",
            "TAACTCTCTTCCTCACTATATTTCCAAACAACATGATGACTTTTGCTCCAATTATTCCTCAAACTGACCT\n",
            "CAAATGTAAATTAGAATTCTTCACTCGCCTCGTGGCAAGAAGCACAAACTTGTGTTCAACTTGTGTTCTG\n",
            "AGTATCCATCAGTTTGTCACACTTGTTCCTGTTAATTCAGGTAAAGGAATACTCAGAGCAAGTGTCACAA\n",
            "ACATGGCAAGTTATTCTTGTTACAGTTGTTGGTTCTTCAGTGTCTTAAATAACATCTACATTCCAATTAA\n",
            "GGTCACTGGTCCACAGTTAACAGACAATAACAATAACTCTAAAAGCAAGTTGTTCTGTTCCACTTCTGAT\n",
            "TTCAGTGTAGGCATTGTCTTCTTGAGGTTTGCCCATGATGCCACATTCATGAGCATCATGGTCTGGACCA\n",
            "GTGTCTCCATGGTACTTCTCCTCCATAGACATTGTCAGAGAATGCAGTACATATTCACTCTCAATCAGGA\n",
            "CCCCAGGGGCCAAGCAGAGACCACAGCAACCCATACTATCCTGATGCTGGTAGTCACATTTGTTGGCTTT\n",
            "TATCTTCTAAGTCTTATTTGTATCATCTTTTACACCTATTTTATATATTCTCATCATTCCCTGAGGCATT\n",
            "GCAATGACATTTTGGTTTCGGGTTTCCCTACAATTTCTCCTTTACTGTTGACCTTCAGAGACCCTAAGGG\n",
            "TCCTTGTTCTGTGTTCTTCAACTGTTGAAAGCCAGAGTCACTAAAAATGCCAAACACAGAAGACAGCTTT\n",
            "GCTAATACCATTAAATACTTTATTCCATAAATATGTTTTTAAAAGCTTGTATGAACAAGGTATGGTGCTC\n",
            "ACTGCTATACTTATAAAAGAGTAAGGTTATAATCACTTGTTGATATGAAAAGATTTCTGGTTGGAATCTG\n",
            "ATTGAAACAGTGAGTTATTCACCACCCTCCATTCTCT\n",
            "\n"
          ]
        }
      ]
    },
    {
      "cell_type": "markdown",
      "source": [
        "You might face an issue with copied file (some “\\n” in the text file). To get rid of that, you’ll need to remove “\\n” using the replace method."
      ],
      "metadata": {
        "id": "ELysTG5uSukn"
      },
      "id": "ELysTG5uSukn"
    },
    {
      "cell_type": "code",
      "source": [
        "# replace the newlines \\n with nothing\n",
        "seq = seq.replace(\"\\n\", \"\")"
      ],
      "metadata": {
        "id": "9bEa4y6WSRNQ"
      },
      "id": "9bEa4y6WSRNQ",
      "execution_count": null,
      "outputs": []
    },
    {
      "cell_type": "markdown",
      "source": [
        "Sometimes you’ll find some extra characters in your copied called carriage return. Anyway, we’ll get rid of it (just in case)."
      ],
      "metadata": {
        "id": "kmT1YG-jS5zm"
      },
      "id": "kmT1YG-jS5zm"
    },
    {
      "cell_type": "code",
      "source": [
        "# Replace carriage return with nothing\n",
        "seq = seq.replace(\"\\r\", \"\")"
      ],
      "metadata": {
        "id": "vLvPFRZ1S8Hl"
      },
      "id": "vLvPFRZ1S8Hl",
      "execution_count": null,
      "outputs": []
    },
    {
      "cell_type": "markdown",
      "source": [
        "### Put it all together"
      ],
      "metadata": {
        "id": "D2M0fYadToz5"
      },
      "id": "D2M0fYadToz5"
    },
    {
      "cell_type": "code",
      "source": [
        "inputfiles = [\"dna.txt\", \"protein.txt\"]\n",
        "seq = []\n",
        "\n",
        "for i, file in enumerate(inputfiles):\n",
        "  f = open(file, \"r\")\n",
        "  seq.append(f.read())\n",
        "  seq[i] = seq[i].replace(\"\\n\", \"\")\n",
        "  seq[i] = seq[i].replace(\"\\r\", \"\")\n",
        "\n",
        "dna = seq[0]\n",
        "protein = seq[1]"
      ],
      "metadata": {
        "id": "dNyXlhNaTr4L"
      },
      "id": "dNyXlhNaTr4L",
      "execution_count": null,
      "outputs": []
    },
    {
      "cell_type": "markdown",
      "source": [
        "### Translation table"
      ],
      "metadata": {
        "id": "ijju0XWKTt3Z"
      },
      "id": "ijju0XWKTt3Z"
    },
    {
      "cell_type": "markdown",
      "source": [
        "- You don’t have to understand how to translate the DNA by yourself, the table below will do just fine."
      ],
      "metadata": {
        "id": "j_z6XCW5TAaN"
      },
      "id": "j_z6XCW5TAaN"
    },
    {
      "cell_type": "code",
      "source": [
        "table = {\n",
        "    'ATA':'I', 'ATC':'I', 'ATT':'I', 'ATG':'M',\n",
        "    'ACA':'T', 'ACC':'T', 'ACG':'T', 'ACT':'T',\n",
        "    'AAC':'N', 'AAT':'N', 'AAA':'K', 'AAG':'K',\n",
        "    'AGC':'S', 'AGT':'S', 'AGA':'R', 'AGG':'R',\n",
        "    'CTA':'L', 'CTC':'L', 'CTG':'L', 'CTT':'L',\n",
        "    'CCA':'P', 'CCC':'P', 'CCG':'P', 'CCT':'P',\n",
        "    'CAC':'H', 'CAT':'H', 'CAA':'Q', 'CAG':'Q',\n",
        "    'CGA':'R', 'CGC':'R', 'CGG':'R', 'CGT':'R',\n",
        "    'GTA':'V', 'GTC':'V', 'GTG':'V', 'GTT':'V',\n",
        "    'GCA':'A', 'GCC':'A', 'GCG':'A', 'GCT':'A',\n",
        "    'GAC':'D', 'GAT':'D', 'GAA':'E', 'GAG':'E',\n",
        "    'GGA':'G', 'GGC':'G', 'GGG':'G', 'GGT':'G',\n",
        "    'TCA':'S', 'TCC':'S', 'TCG':'S', 'TCT':'S',\n",
        "    'TTC':'F', 'TTT':'F', 'TTA':'L', 'TTG':'L',\n",
        "    'TAC':'Y', 'TAT':'Y', 'TAA':'_', 'TAG':'_',\n",
        "    'TGC':'C', 'TGT':'C', 'TGA':'_', 'TGG':'W',\n",
        "}"
      ],
      "metadata": {
        "id": "ZgDICMSlTECx"
      },
      "id": "ZgDICMSlTECx",
      "execution_count": null,
      "outputs": []
    },
    {
      "cell_type": "markdown",
      "source": [
        "## Build the algorithm"
      ],
      "metadata": {
        "id": "utbMJ6gpTKAC"
      },
      "id": "utbMJ6gpTKAC"
    },
    {
      "cell_type": "markdown",
      "source": [
        "1. Check that the length of sequence is divisible by 3\n",
        "2. Look up each 3-letter string in table and store result\n",
        "3. End when you reach the end of the sequence"
      ],
      "metadata": {
        "id": "lgxdXZgcTOyU"
      },
      "id": "lgxdXZgcTOyU"
    },
    {
      "cell_type": "code",
      "source": [
        "# === The small demo ====\n",
        "s = \"abcdef\"\n",
        "t = {'abc': '1', \"def\": '2'}\n",
        "res = []\n",
        "i = 0\n",
        "\n",
        "while i < len(s):\n",
        "  print(f\"i={i}\")\n",
        "  test = s[i: i+3]\n",
        "  print(f\"testing {test}...\")\n",
        "  result = t[test]\n",
        "  print(f\"this is {result}\")\n",
        "  res.append(result)\n",
        "  print(f\"the full list: {res}\")\n",
        "  i = i + 3"
      ],
      "metadata": {
        "id": "M56dyN5GTPO2"
      },
      "id": "M56dyN5GTPO2",
      "execution_count": null,
      "outputs": []
    },
    {
      "cell_type": "code",
      "source": [
        "translated_seq = ''\n",
        "i = 0\n",
        "dna = dna[20:935]\n",
        "\n",
        "while i < len(dna):\n",
        "  clip = dna[i: i+3]\n",
        "  if len(clip) < 3:\n",
        "    break\n",
        "  else:\n",
        "    result = table[clip]\n",
        "    translated_seq += result\n",
        "    i += 3"
      ],
      "metadata": {
        "id": "7tJWfRDITaH1"
      },
      "id": "7tJWfRDITaH1",
      "execution_count": null,
      "outputs": []
    },
    {
      "cell_type": "code",
      "source": [
        "# check the results\n",
        "print(translated_seq == protein)"
      ],
      "metadata": {
        "id": "aycZNfDsTcAD"
      },
      "id": "aycZNfDsTcAD",
      "execution_count": null,
      "outputs": []
    }
  ],
  "metadata": {
    "kernelspec": {
      "display_name": "Python 3",
      "language": "python",
      "name": "python3"
    },
    "language_info": {
      "codemirror_mode": {
        "name": "ipython",
        "version": 3
      },
      "file_extension": ".py",
      "mimetype": "text/x-python",
      "name": "python",
      "nbconvert_exporter": "python",
      "pygments_lexer": "ipython3",
      "version": "3.8.8"
    },
    "colab": {
      "provenance": [],
      "include_colab_link": true
    }
  },
  "nbformat": 4,
  "nbformat_minor": 5
}