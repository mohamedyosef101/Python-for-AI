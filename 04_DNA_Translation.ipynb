{
  "cells": [
    {
      "cell_type": "markdown",
      "metadata": {
        "id": "view-in-github",
        "colab_type": "text"
      },
      "source": [
        "<a href=\"https://colab.research.google.com/github/mohamedyosef101/Python-for-AI/blob/main/04_DNA_Translation.ipynb\" target=\"_parent\"><img src=\"https://colab.research.google.com/assets/colab-badge.svg\" alt=\"Open In Colab\"/></a>"
      ]
    },
    {
      "cell_type": "markdown",
      "source": [
        "# Translation Theory : DNA to Protein"
      ],
      "metadata": {
        "id": "g5touMUcDqSo"
      },
      "id": "g5touMUcDqSo"
    },
    {
      "cell_type": "markdown",
      "source": [
        "DNA translation is a fundamental biological process where the genetic code in DNA is converted into proteins, which are the building blocks of life. Understanding DNA translation can help us in various fields such as genetics, medicine, and bioinformatics. In this project, we'll write a Python program to translate a DNA sequence into its corresponding protein sequence. This will involve reading a DNA sequence from a file, applying an algorithm to translate it, and writing the protein sequence to a new file.\n",
        "\n",
        "<br>\n",
        "\n",
        "**Aim:** Convert a given sequence of DNA into its Protein equivalent.\n",
        "\n",
        "```\n",
        "ATA -> I\n",
        "ATG -> M\n",
        "CAA -> Q\n",
        "TCT -> S\n",
        "TGG -> W\n",
        "```\n",
        "\n",
        "<br>\n",
        "\n",
        "**File:** Download a DNA strand as a text file from a public web-based repository of DNA sequences from [**NCBI**](https://www.ncbi.nlm.nih.gov/).The Nucleotide sample is ( NM_207618.2 ), which can be found [**here**](https://www.ncbi.nlm.nih.gov/nuccore/NM_207618.2).\n",
        "\n",
        "<br>\n",
        "\n",
        "**Sources:** I took the project idea from [HarvardX Python for Research](https://courses.edx.org/courses/course-v1:HarvardX+PH526x+3T2016/info) course on edX. Also, I used some ideas from an [article by GeeksforGeeks](https://www.geeksforgeeks.org/dna-protein-python-3/)."
      ],
      "metadata": {
        "id": "OsBvzwpqDmAF"
      },
      "id": "OsBvzwpqDmAF"
    },
    {
      "cell_type": "markdown",
      "source": [
        "### What we need to do..\n",
        "\n",
        "1. Download a DNA sequence from NCBI\n",
        "2. Translate the DNA sequence into amino acids.\n",
        "3. Download amino acid sequence to check our solution.\n",
        "\n",
        "### Tasks\n",
        "\n",
        "1. Manually download DNA and  protein sequence data.\n",
        "2. Import the DNA data into Python.\n",
        "3. Create an algorithm to translate the DNA.\n",
        "4. Check if translation matches your download."
      ],
      "metadata": {
        "id": "Xc2CLIftFKpy"
      },
      "id": "Xc2CLIftFKpy"
    },
    {
      "cell_type": "markdown",
      "source": [
        "## Step 1. Download the data\n",
        "\n",
        "- Download two files; first one is Strand of DNA while the other is the corresponding protein sequence.\n",
        "    - Choose a Nucleotide database type instead of “all databases”.\n",
        "    - In the search field, write “NM_207618.2” and hit search.\n",
        "    - At the top of the page found and click on the word “FASTA”\n",
        "    - Using your mouse and cursor to copy the Strand of DNA and save it in a .txt file.\n",
        "    - Go back the data page and click on “CDS” to download the corresponding protein sequence."
      ],
      "metadata": {
        "id": "6x6y1MSHGV6i"
      },
      "id": "6x6y1MSHGV6i"
    },
    {
      "cell_type": "code",
      "source": [
        "%%writefile dna.txt\n",
        "GGTCAGAAAAAGCCCTCTCCATGTCTACTCACGATACATCCCTGAAAACCACTGAGGAAGTGGCTTTTCA\n",
        "GATCATCTTGCTTTGCCAGTTTGGGGTTGGGACTTTTGCCAATGTATTTCTCTTTGTCTATAATTTCTCT\n",
        "CCAATCTCGACTGGTTCTAAACAGAGGCCCAGACAAGTGATTTTAAGACACATGGCTGTGGCCAATGCCT\n",
        "TAACTCTCTTCCTCACTATATTTCCAAACAACATGATGACTTTTGCTCCAATTATTCCTCAAACTGACCT\n",
        "CAAATGTAAATTAGAATTCTTCACTCGCCTCGTGGCAAGAAGCACAAACTTGTGTTCAACTTGTGTTCTG\n",
        "AGTATCCATCAGTTTGTCACACTTGTTCCTGTTAATTCAGGTAAAGGAATACTCAGAGCAAGTGTCACAA\n",
        "ACATGGCAAGTTATTCTTGTTACAGTTGTTGGTTCTTCAGTGTCTTAAATAACATCTACATTCCAATTAA\n",
        "GGTCACTGGTCCACAGTTAACAGACAATAACAATAACTCTAAAAGCAAGTTGTTCTGTTCCACTTCTGAT\n",
        "TTCAGTGTAGGCATTGTCTTCTTGAGGTTTGCCCATGATGCCACATTCATGAGCATCATGGTCTGGACCA\n",
        "GTGTCTCCATGGTACTTCTCCTCCATAGACATTGTCAGAGAATGCAGTACATATTCACTCTCAATCAGGA\n",
        "CCCCAGGGGCCAAGCAGAGACCACAGCAACCCATACTATCCTGATGCTGGTAGTCACATTTGTTGGCTTT\n",
        "TATCTTCTAAGTCTTATTTGTATCATCTTTTACACCTATTTTATATATTCTCATCATTCCCTGAGGCATT\n",
        "GCAATGACATTTTGGTTTCGGGTTTCCCTACAATTTCTCCTTTACTGTTGACCTTCAGAGACCCTAAGGG\n",
        "TCCTTGTTCTGTGTTCTTCAACTGTTGAAAGCCAGAGTCACTAAAAATGCCAAACACAGAAGACAGCTTT\n",
        "GCTAATACCATTAAATACTTTATTCCATAAATATGTTTTTAAAAGCTTGTATGAACAAGGTATGGTGCTC\n",
        "ACTGCTATACTTATAAAAGAGTAAGGTTATAATCACTTGTTGATATGAAAAGATTTCTGGTTGGAATCTG\n",
        "ATTGAAACAGTGAGTTATTCACCACCCTCCATTCTCT"
      ],
      "metadata": {
        "id": "mJxaDVK7Ry_K",
        "outputId": "5dcf9718-5b92-45e0-912e-9f5be3e83ccc",
        "colab": {
          "base_uri": "https://localhost:8080/"
        }
      },
      "id": "mJxaDVK7Ry_K",
      "execution_count": 5,
      "outputs": [
        {
          "output_type": "stream",
          "name": "stdout",
          "text": [
            "Overwriting dna.txt\n"
          ]
        }
      ]
    },
    {
      "cell_type": "code",
      "source": [
        "%%writefile protein.txt\n",
        "MSTHDTSLKTTEEVAFQIILLCQFGVGTFANVFLFVYNFSPIST\n",
        "GSKQRPRQVILRHMAVANALTLFLTIFPNNMMTFAPIIPQTDLKCKLEFFTRLVARST\n",
        "NLCSTCVLSIHQFVTLVPVNSGKGILRASVTNMASYSCYSCWFFSVLNNIYIPIKVTG\n",
        "PQLTDNNNNSKSKLFCSTSDFSVGIVFLRFAHDATFMSIMVWTSVSMVLLLHRHCQRM\n",
        "QYIFTLNQDPRGQAETTATHTILMLVVTFVGFYLLSLICIIFYTYFIYSHHSLRHCND\n",
        "ILVSGFPTISPLLLTFRDPKGPCSVFFNC"
      ],
      "metadata": {
        "id": "HtQ2yRlNR-eI",
        "outputId": "5976d10b-dc48-4268-91ea-cd6507834732",
        "colab": {
          "base_uri": "https://localhost:8080/"
        }
      },
      "id": "HtQ2yRlNR-eI",
      "execution_count": 6,
      "outputs": [
        {
          "output_type": "stream",
          "name": "stdout",
          "text": [
            "Writing protein.txt\n"
          ]
        }
      ]
    },
    {
      "cell_type": "markdown",
      "source": [
        "## Step 2. Read the files"
      ],
      "metadata": {
        "id": "cwEgs87wSFBE"
      },
      "id": "cwEgs87wSFBE"
    },
    {
      "cell_type": "code",
      "source": [
        "inputfile = \"dna.txt\"\n",
        "f = open(inputfile, \"r\") # r for reading\n",
        "seq = f.read()\n",
        "print(seq)"
      ],
      "metadata": {
        "id": "QtPczHmhSPMm",
        "outputId": "38c6478e-76cc-4f95-a5cd-c9aff9aaa73d",
        "colab": {
          "base_uri": "https://localhost:8080/"
        }
      },
      "id": "QtPczHmhSPMm",
      "execution_count": 7,
      "outputs": [
        {
          "output_type": "stream",
          "name": "stdout",
          "text": [
            "GGTCAGAAAAAGCCCTCTCCATGTCTACTCACGATACATCCCTGAAAACCACTGAGGAAGTGGCTTTTCA\n",
            "GATCATCTTGCTTTGCCAGTTTGGGGTTGGGACTTTTGCCAATGTATTTCTCTTTGTCTATAATTTCTCT\n",
            "CCAATCTCGACTGGTTCTAAACAGAGGCCCAGACAAGTGATTTTAAGACACATGGCTGTGGCCAATGCCT\n",
            "TAACTCTCTTCCTCACTATATTTCCAAACAACATGATGACTTTTGCTCCAATTATTCCTCAAACTGACCT\n",
            "CAAATGTAAATTAGAATTCTTCACTCGCCTCGTGGCAAGAAGCACAAACTTGTGTTCAACTTGTGTTCTG\n",
            "AGTATCCATCAGTTTGTCACACTTGTTCCTGTTAATTCAGGTAAAGGAATACTCAGAGCAAGTGTCACAA\n",
            "ACATGGCAAGTTATTCTTGTTACAGTTGTTGGTTCTTCAGTGTCTTAAATAACATCTACATTCCAATTAA\n",
            "GGTCACTGGTCCACAGTTAACAGACAATAACAATAACTCTAAAAGCAAGTTGTTCTGTTCCACTTCTGAT\n",
            "TTCAGTGTAGGCATTGTCTTCTTGAGGTTTGCCCATGATGCCACATTCATGAGCATCATGGTCTGGACCA\n",
            "GTGTCTCCATGGTACTTCTCCTCCATAGACATTGTCAGAGAATGCAGTACATATTCACTCTCAATCAGGA\n",
            "CCCCAGGGGCCAAGCAGAGACCACAGCAACCCATACTATCCTGATGCTGGTAGTCACATTTGTTGGCTTT\n",
            "TATCTTCTAAGTCTTATTTGTATCATCTTTTACACCTATTTTATATATTCTCATCATTCCCTGAGGCATT\n",
            "GCAATGACATTTTGGTTTCGGGTTTCCCTACAATTTCTCCTTTACTGTTGACCTTCAGAGACCCTAAGGG\n",
            "TCCTTGTTCTGTGTTCTTCAACTGTTGAAAGCCAGAGTCACTAAAAATGCCAAACACAGAAGACAGCTTT\n",
            "GCTAATACCATTAAATACTTTATTCCATAAATATGTTTTTAAAAGCTTGTATGAACAAGGTATGGTGCTC\n",
            "ACTGCTATACTTATAAAAGAGTAAGGTTATAATCACTTGTTGATATGAAAAGATTTCTGGTTGGAATCTG\n",
            "ATTGAAACAGTGAGTTATTCACCACCCTCCATTCTCT\n",
            "\n"
          ]
        }
      ]
    },
    {
      "cell_type": "markdown",
      "source": [
        "You might face an issue with copied file (some “\\n” in the text file). To get rid of that, you’ll need to remove “\\n” using the replace method."
      ],
      "metadata": {
        "id": "ELysTG5uSukn"
      },
      "id": "ELysTG5uSukn"
    },
    {
      "cell_type": "code",
      "source": [
        "# replace the newlines \\n with nothing\n",
        "seq = seq.replace(\"\\n\", \"\")"
      ],
      "metadata": {
        "id": "9bEa4y6WSRNQ"
      },
      "id": "9bEa4y6WSRNQ",
      "execution_count": 8,
      "outputs": []
    },
    {
      "cell_type": "markdown",
      "source": [
        "Sometimes you’ll find some extra characters in your copied called carriage return. Anyway, we’ll get rid of it (just in case)."
      ],
      "metadata": {
        "id": "kmT1YG-jS5zm"
      },
      "id": "kmT1YG-jS5zm"
    },
    {
      "cell_type": "code",
      "source": [
        "# Replace carriage return with nothing\n",
        "seq = seq.replace(\"\\r\", \"\")"
      ],
      "metadata": {
        "id": "vLvPFRZ1S8Hl"
      },
      "id": "vLvPFRZ1S8Hl",
      "execution_count": 9,
      "outputs": []
    },
    {
      "cell_type": "markdown",
      "source": [
        "### Put it all together"
      ],
      "metadata": {
        "id": "D2M0fYadToz5"
      },
      "id": "D2M0fYadToz5"
    },
    {
      "cell_type": "code",
      "source": [
        "inputfiles = [\"dna.txt\", \"protein.txt\"]\n",
        "seq = []\n",
        "\n",
        "for i, file in enumerate(inputfiles):\n",
        "  f = open(file, \"r\")\n",
        "  seq.append(f.read())\n",
        "  seq[i] = seq[i].replace(\"\\n\", \"\")\n",
        "  seq[i] = seq[i].replace(\"\\r\", \"\")\n",
        "\n",
        "dna = seq[0]\n",
        "protein = seq[1]"
      ],
      "metadata": {
        "id": "dNyXlhNaTr4L"
      },
      "id": "dNyXlhNaTr4L",
      "execution_count": 10,
      "outputs": []
    },
    {
      "cell_type": "markdown",
      "source": [
        "### Translation table"
      ],
      "metadata": {
        "id": "ijju0XWKTt3Z"
      },
      "id": "ijju0XWKTt3Z"
    },
    {
      "cell_type": "markdown",
      "source": [
        "- You don’t have to understand how to translate the DNA by yourself, the table below will do just fine."
      ],
      "metadata": {
        "id": "j_z6XCW5TAaN"
      },
      "id": "j_z6XCW5TAaN"
    },
    {
      "cell_type": "code",
      "source": [
        "table = {\n",
        "    'ATA':'I', 'ATC':'I', 'ATT':'I', 'ATG':'M',\n",
        "    'ACA':'T', 'ACC':'T', 'ACG':'T', 'ACT':'T',\n",
        "    'AAC':'N', 'AAT':'N', 'AAA':'K', 'AAG':'K',\n",
        "    'AGC':'S', 'AGT':'S', 'AGA':'R', 'AGG':'R',\n",
        "    'CTA':'L', 'CTC':'L', 'CTG':'L', 'CTT':'L',\n",
        "    'CCA':'P', 'CCC':'P', 'CCG':'P', 'CCT':'P',\n",
        "    'CAC':'H', 'CAT':'H', 'CAA':'Q', 'CAG':'Q',\n",
        "    'CGA':'R', 'CGC':'R', 'CGG':'R', 'CGT':'R',\n",
        "    'GTA':'V', 'GTC':'V', 'GTG':'V', 'GTT':'V',\n",
        "    'GCA':'A', 'GCC':'A', 'GCG':'A', 'GCT':'A',\n",
        "    'GAC':'D', 'GAT':'D', 'GAA':'E', 'GAG':'E',\n",
        "    'GGA':'G', 'GGC':'G', 'GGG':'G', 'GGT':'G',\n",
        "    'TCA':'S', 'TCC':'S', 'TCG':'S', 'TCT':'S',\n",
        "    'TTC':'F', 'TTT':'F', 'TTA':'L', 'TTG':'L',\n",
        "    'TAC':'Y', 'TAT':'Y', 'TAA':'_', 'TAG':'_',\n",
        "    'TGC':'C', 'TGT':'C', 'TGA':'_', 'TGG':'W',\n",
        "}"
      ],
      "metadata": {
        "id": "ZgDICMSlTECx"
      },
      "id": "ZgDICMSlTECx",
      "execution_count": 11,
      "outputs": []
    },
    {
      "cell_type": "markdown",
      "source": [
        "## Step 3. Build the algorithm"
      ],
      "metadata": {
        "id": "utbMJ6gpTKAC"
      },
      "id": "utbMJ6gpTKAC"
    },
    {
      "cell_type": "markdown",
      "source": [
        "1. Check that the length of sequence is divisible by 3\n",
        "2. Look up each 3-letter string in table and store result\n",
        "3. End when you reach the end of the sequence"
      ],
      "metadata": {
        "id": "lgxdXZgcTOyU"
      },
      "id": "lgxdXZgcTOyU"
    },
    {
      "cell_type": "code",
      "source": [
        "# === The small demo ====\n",
        "s = \"abcdef\"\n",
        "t = {'abc': '1', \"def\": '2'}\n",
        "res = []\n",
        "i = 0\n",
        "\n",
        "while i < len(s):\n",
        "  print(f\"i={i}\")\n",
        "  test = s[i: i+3]\n",
        "  print(f\"testing {test}...\")\n",
        "  result = t[test]\n",
        "  print(f\"this is {result}\")\n",
        "  res.append(result)\n",
        "  print(f\"the full list: {res}\")\n",
        "  i = i + 3"
      ],
      "metadata": {
        "id": "M56dyN5GTPO2",
        "outputId": "8b01c859-ab3e-42bd-bc0e-9aa2a7b47921",
        "colab": {
          "base_uri": "https://localhost:8080/"
        }
      },
      "id": "M56dyN5GTPO2",
      "execution_count": 12,
      "outputs": [
        {
          "output_type": "stream",
          "name": "stdout",
          "text": [
            "i=0\n",
            "testing abc...\n",
            "this is 1\n",
            "the full list: ['1']\n",
            "i=3\n",
            "testing def...\n",
            "this is 2\n",
            "the full list: ['1', '2']\n"
          ]
        }
      ]
    },
    {
      "cell_type": "code",
      "source": [
        "translated_seq = ''\n",
        "i = 0\n",
        "dna = dna[20:935]\n",
        "\n",
        "while i < len(dna):\n",
        "  clip = dna[i: i+3]\n",
        "  if len(clip) < 3:\n",
        "    break\n",
        "  else:\n",
        "    result = table[clip]\n",
        "    translated_seq += result\n",
        "    i += 3"
      ],
      "metadata": {
        "id": "7tJWfRDITaH1"
      },
      "id": "7tJWfRDITaH1",
      "execution_count": 13,
      "outputs": []
    },
    {
      "cell_type": "markdown",
      "source": [
        "## Step 4. Check the results"
      ],
      "metadata": {
        "id": "pkAC6LBNYO3-"
      },
      "id": "pkAC6LBNYO3-"
    },
    {
      "cell_type": "code",
      "source": [
        "print(translated_seq == protein)"
      ],
      "metadata": {
        "id": "aycZNfDsTcAD",
        "outputId": "ef8efc1c-b436-4f07-c671-03067180322d",
        "colab": {
          "base_uri": "https://localhost:8080/"
        }
      },
      "id": "aycZNfDsTcAD",
      "execution_count": 14,
      "outputs": [
        {
          "output_type": "stream",
          "name": "stdout",
          "text": [
            "True\n"
          ]
        }
      ]
    }
  ],
  "metadata": {
    "kernelspec": {
      "display_name": "Python 3",
      "language": "python",
      "name": "python3"
    },
    "language_info": {
      "codemirror_mode": {
        "name": "ipython",
        "version": 3
      },
      "file_extension": ".py",
      "mimetype": "text/x-python",
      "name": "python",
      "nbconvert_exporter": "python",
      "pygments_lexer": "ipython3",
      "version": "3.8.8"
    },
    "colab": {
      "provenance": [],
      "include_colab_link": true
    }
  },
  "nbformat": 4,
  "nbformat_minor": 5
}