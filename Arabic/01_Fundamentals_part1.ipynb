{
  "cells": [
    {
      "cell_type": "markdown",
      "metadata": {
        "id": "view-in-github",
        "colab_type": "text"
      },
      "source": [
        "<a href=\"https://colab.research.google.com/github/mohamedyosef101/Python-for-AI/blob/main/Arabic/01_Fundamentals_part1.ipynb\" target=\"_parent\"><img src=\"https://colab.research.google.com/assets/colab-badge.svg\" alt=\"Open In Colab\"/></a>"
      ]
    },
    {
      "cell_type": "markdown",
      "source": [
        "# محاضرة 1. الأساسيات الجزء الأول\n"
      ],
      "metadata": {
        "id": "w_j1ePRI_FYx"
      },
      "id": "w_j1ePRI_FYx"
    },
    {
      "cell_type": "markdown",
      "source": [
        "بايثون هي لغة برمجة معروفة ومستخدمة في أكثر من مجال وموجودة بكثرة في مجال الذكاء الاصطناعي وهدفنا خلال [هذه السلسلة](https://youtube.com/playlist?list=PLZ8vGZe-MHyl3gSOsnhpNg4d_Cm8VyJep&si=5kgsYllnvT1jVMwt)\n",
        "هو تبسيط وتوضيح كيفية استخدام بايثون في برمجة وبناء نماذج الذكاء الاصطناعي"
      ],
      "metadata": {
        "id": "-pOiDCqp_Kzn"
      },
      "id": "-pOiDCqp_Kzn"
    },
    {
      "cell_type": "markdown",
      "source": [
        "## المتغيرات"
      ],
      "metadata": {
        "id": "-wQ4ceBOADwH"
      },
      "id": "-wQ4ceBOADwH"
    },
    {
      "cell_type": "markdown",
      "source": [
        "المتغير من منظور برمجي هو قيمة يتم تخزينها في ذاكرة الجهاز ويمكن أن تكتبه كالآتي:"
      ],
      "metadata": {
        "id": "vaPrvrmKWYgI"
      },
      "id": "vaPrvrmKWYgI"
    },
    {
      "cell_type": "code",
      "source": [
        "my_name = \"Mohamed Yosef\"\n",
        "fav_number = 101"
      ],
      "metadata": {
        "id": "V4s47Qw-_3OC"
      },
      "id": "V4s47Qw-_3OC",
      "execution_count": null,
      "outputs": []
    },
    {
      "cell_type": "markdown",
      "source": [
        "هناك شروط لاسم المتغير وهي: ألا يبدأ بحرف من حروف اللغة الانجليزية أو بعلامة الشرطة السفلية _، بعد ذلك يمكن أن يحتوي على أرقام وحرف وعلامة الشرطة السفلية، كما يجب ألا يكون هناك مسافات أو علامات خاصة مثلا علامة الاستفهام أو علامة التعجب وغيره، وأخيراً ممنوع أن يكون في الأسماء المحفوظة لدى بايثون"
      ],
      "metadata": {
        "id": "kgQs1LO9W_qI"
      },
      "id": "kgQs1LO9W_qI"
    },
    {
      "cell_type": "markdown",
      "source": [
        "## أنواع البيانات"
      ],
      "metadata": {
        "id": "aMUZlXQTAHNf"
      },
      "id": "aMUZlXQTAHNf"
    },
    {
      "cell_type": "markdown",
      "source": [
        "القيمة التي يأخذها المتغير لها أكثر من نوع كما نرى في الكود أدناه"
      ],
      "metadata": {
        "id": "7SN3EBmUWwfZ"
      },
      "id": "7SN3EBmUWwfZ"
    },
    {
      "cell_type": "code",
      "source": [
        "my_integer = 101   # أرقام صحيحة\n",
        "my_float = 132.4   # أرقام عشرية\n",
        "my_boolean = False  # صح أم خطأ True or False\n",
        "my_string = \"You look good today!\"   # أي شئ بين علامتي التنصيص \"\""
      ],
      "metadata": {
        "id": "2xE0VHziAJaf"
      },
      "id": "2xE0VHziAJaf",
      "execution_count": null,
      "outputs": []
    },
    {
      "cell_type": "markdown",
      "source": [
        "## Functions"
      ],
      "metadata": {
        "id": "R0acXryvALIv"
      },
      "id": "R0acXryvALIv"
    },
    {
      "cell_type": "markdown",
      "source": [
        "هي طريقة أفضل وأكثر تنظيماً في كتابة الكود، فهي تجمع أمر أو أكثر لأداء مهمة معينة. الدالة بالأسفل على سبيل المثال تأخد كعنصر ادخال \"الاسم\" وتخزن في الذاكرة باسم متغير\n",
        "\n",
        "`your_name`\n",
        "\n",
        "ومن ثم تضيف أهلا في البداية"
      ],
      "metadata": {
        "id": "IsT6KsjJYUsW"
      },
      "id": "IsT6KsjJYUsW"
    },
    {
      "cell_type": "code",
      "source": [
        "def greeting(your_name):\n",
        "  print(f\"أهلا {your_name}\")\n",
        "greeting(\"محمد\") # استدعاء الدالة\n",
        "# لاحظ: بدون عملية الاستدعاء لن تعمل الدالة"
      ],
      "metadata": {
        "id": "uRD4LqamAOYj",
        "outputId": "3bbf4ca0-0c34-441e-e303-48174eef7b21",
        "colab": {
          "base_uri": "https://localhost:8080/"
        }
      },
      "id": "uRD4LqamAOYj",
      "execution_count": 1,
      "outputs": [
        {
          "output_type": "stream",
          "name": "stdout",
          "text": [
            "أهلا محمد\n"
          ]
        }
      ]
    },
    {
      "cell_type": "markdown",
      "source": [
        "`print()`\n",
        "دالة مبينة في بايثون فلذلك لا تحتاج الى تعريفها فما نقوم به هو فقط استدعائها وهذه الدالة تظهر ناتج أياً يكن ما تكتبه داخلها\n",
        "\n",
        "```python\n",
        "print(\"هذه الجملة ستظهر كما هي\")\n",
        "```\n",
        "**النتيجة** : هذه الجملة ستظهر كما هي\n",
        "\n",
        "\n",
        "```python\n",
        "print(90+11)\n",
        "```\n",
        "**النتيجة** : 101"
      ],
      "metadata": {
        "id": "VD4McLShZAda"
      },
      "id": "VD4McLShZAda"
    },
    {
      "cell_type": "markdown",
      "source": [
        "## الحالات الشرطية"
      ],
      "metadata": {
        "id": "jU1DUDEsAdeZ"
      },
      "id": "jU1DUDEsAdeZ"
    },
    {
      "cell_type": "code",
      "source": [
        "# اكتب التصحيح هنا\n",
        "\n",
        "\n",
        "if age > 60:\n",
        "  print(\"Retired\")\n",
        "elif age >= 40 and age < 60:\n",
        "  print(\"Working Adult\")\n",
        "elif age >= 18 and age < 40:\n",
        "  print(\"Young\")\n",
        "elif age >= 13 and age < 18:\n",
        "  print(\"Teenage\")\n",
        "else:\n",
        "  print(\"Child\")"
      ],
      "metadata": {
        "id": "wSVxLFf5AilS",
        "outputId": "70d32ff8-762a-4c68-cba7-3e6dda074e2b",
        "colab": {
          "base_uri": "https://localhost:8080/",
          "height": 211
        }
      },
      "id": "wSVxLFf5AilS",
      "execution_count": null,
      "outputs": [
        {
          "output_type": "error",
          "ename": "NameError",
          "evalue": "name 'age' is not defined",
          "traceback": [
            "\u001b[0;31m---------------------------------------------------------------------------\u001b[0m",
            "\u001b[0;31mNameError\u001b[0m                                 Traceback (most recent call last)",
            "\u001b[0;32m<ipython-input-4-d97fa8e33126>\u001b[0m in \u001b[0;36m<cell line: 4>\u001b[0;34m()\u001b[0m\n\u001b[1;32m      2\u001b[0m \u001b[0;34m\u001b[0m\u001b[0m\n\u001b[1;32m      3\u001b[0m \u001b[0;34m\u001b[0m\u001b[0m\n\u001b[0;32m----> 4\u001b[0;31m \u001b[0;32mif\u001b[0m \u001b[0mage\u001b[0m \u001b[0;34m>\u001b[0m \u001b[0;36m60\u001b[0m\u001b[0;34m:\u001b[0m\u001b[0;34m\u001b[0m\u001b[0;34m\u001b[0m\u001b[0m\n\u001b[0m\u001b[1;32m      5\u001b[0m   \u001b[0mprint\u001b[0m\u001b[0;34m(\u001b[0m\u001b[0;34m\"Retired\"\u001b[0m\u001b[0;34m)\u001b[0m\u001b[0;34m\u001b[0m\u001b[0;34m\u001b[0m\u001b[0m\n\u001b[1;32m      6\u001b[0m \u001b[0;32melif\u001b[0m \u001b[0mage\u001b[0m \u001b[0;34m>=\u001b[0m \u001b[0;36m40\u001b[0m \u001b[0;32mand\u001b[0m \u001b[0mage\u001b[0m \u001b[0;34m<\u001b[0m \u001b[0;36m60\u001b[0m\u001b[0;34m:\u001b[0m\u001b[0;34m\u001b[0m\u001b[0;34m\u001b[0m\u001b[0m\n",
            "\u001b[0;31mNameError\u001b[0m: name 'age' is not defined"
          ]
        }
      ]
    },
    {
      "cell_type": "markdown",
      "source": [
        "**الكود أعلاه سيعطي لك رسالة خطأ** فأنت بحاجة الى تعريف المتغير المعبر عن العمر ومساواته برقم\n",
        "\n",
        "<details>\n",
        "  <summary>اضغط هنا لعرض الإجابة</summary>\n",
        "  <pre>\n",
        "  age = 22\n",
        "  if age > 60:\n",
        "    print(\"Retired\")\n",
        "  elif age >= 40 and age < 60:\n",
        "    print(\"Working Adult\")\n",
        "  elif age >= 18 and age < 40:\n",
        "    print(\"Young\")\n",
        "  elif age >= 13 and age < 18:\n",
        "    print(\"Teenage\")\n",
        "  else:\n",
        "    print(\"Child\")\n",
        "  </pre>\n",
        "</details>"
      ],
      "metadata": {
        "id": "ttD4COGPak2s"
      },
      "id": "ttD4COGPak2s"
    }
  ],
  "metadata": {
    "kernelspec": {
      "display_name": "Python 3",
      "language": "python",
      "name": "python3"
    },
    "language_info": {
      "codemirror_mode": {
        "name": "ipython",
        "version": 3
      },
      "file_extension": ".py",
      "mimetype": "text/x-python",
      "name": "python",
      "nbconvert_exporter": "python",
      "pygments_lexer": "ipython3",
      "version": "3.8.8"
    },
    "colab": {
      "provenance": [],
      "include_colab_link": true
    }
  },
  "nbformat": 4,
  "nbformat_minor": 5
}