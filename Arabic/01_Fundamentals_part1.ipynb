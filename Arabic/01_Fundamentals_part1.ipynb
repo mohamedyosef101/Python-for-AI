{
  "cells": [
    {
      "cell_type": "markdown",
      "source": [
        "# Lecture 1. Fundamentals part 1"
      ],
      "metadata": {
        "id": "w_j1ePRI_FYx"
      },
      "id": "w_j1ePRI_FYx"
    },
    {
      "cell_type": "markdown",
      "source": [
        "Python is a well known language in AI and in many other fields, but in this repo and in the [YouTube series](https://youtube.com/playlist?list=PLZ8vGZe-MHyl3gSOsnhpNg4d_Cm8VyJep&si=5kgsYllnvT1jVMwt), we'll focus on applying Python to data-related fields."
      ],
      "metadata": {
        "id": "-pOiDCqp_Kzn"
      },
      "id": "-pOiDCqp_Kzn"
    },
    {
      "cell_type": "markdown",
      "source": [
        "## Variables"
      ],
      "metadata": {
        "id": "-wQ4ceBOADwH"
      },
      "id": "-wQ4ceBOADwH"
    },
    {
      "cell_type": "markdown",
      "source": [
        "A variable (programmatically speaking) is a value stored in memory and you can write it as:"
      ],
      "metadata": {
        "id": "vaPrvrmKWYgI"
      },
      "id": "vaPrvrmKWYgI"
    },
    {
      "cell_type": "code",
      "source": [
        "my_name = \"Mohamed Yosef\"\n",
        "fav_number = 101"
      ],
      "metadata": {
        "id": "V4s47Qw-_3OC"
      },
      "id": "V4s47Qw-_3OC",
      "execution_count": 1,
      "outputs": []
    },
    {
      "cell_type": "markdown",
      "source": [
        "A good thing to remember is that naming a variable in Python has some rules:\n",
        "* starts with letter or _\n",
        "* includes letters, numbers, _\n",
        "* no spaces, no symbols\n",
        "* not a saved name (e.g. None)"
      ],
      "metadata": {
        "id": "kgQs1LO9W_qI"
      },
      "id": "kgQs1LO9W_qI"
    },
    {
      "cell_type": "markdown",
      "source": [
        "## Data Types"
      ],
      "metadata": {
        "id": "aMUZlXQTAHNf"
      },
      "id": "aMUZlXQTAHNf"
    },
    {
      "cell_type": "markdown",
      "source": [
        "The value that a variable can take can be in more than one form. That's why there are data types."
      ],
      "metadata": {
        "id": "7SN3EBmUWwfZ"
      },
      "id": "7SN3EBmUWwfZ"
    },
    {
      "cell_type": "code",
      "source": [
        "my_integer = 101   # whole numbers\n",
        "my_float = 132.4   # decimals\n",
        "my_boolean = False  # True or False\n",
        "my_string = \"You look good today!\"   # anything between quotes \"\""
      ],
      "metadata": {
        "id": "2xE0VHziAJaf"
      },
      "id": "2xE0VHziAJaf",
      "execution_count": 2,
      "outputs": []
    },
    {
      "cell_type": "markdown",
      "source": [
        "## Functions"
      ],
      "metadata": {
        "id": "R0acXryvALIv"
      },
      "id": "R0acXryvALIv"
    },
    {
      "cell_type": "markdown",
      "source": [
        "A clear way to write code. It collects some commands together (or one command alone) to do a certain task. The following is a function that takes input as the person's name and store it in variable called `your_name` this just add `\"hi\"` before it."
      ],
      "metadata": {
        "id": "IsT6KsjJYUsW"
      },
      "id": "IsT6KsjJYUsW"
    },
    {
      "cell_type": "code",
      "source": [
        "def greeting(your_name):\n",
        "  print(f\"Hi {your_name}\")\n",
        "greeting(\"Mohamed\") # function calling to make it work"
      ],
      "metadata": {
        "id": "uRD4LqamAOYj",
        "outputId": "86de44b0-bd51-4315-9a73-fae9e78e47c3",
        "colab": {
          "base_uri": "https://localhost:8080/"
        }
      },
      "id": "uRD4LqamAOYj",
      "execution_count": 3,
      "outputs": [
        {
          "output_type": "stream",
          "name": "stdout",
          "text": [
            "Hi Mohamed\n"
          ]
        }
      ]
    },
    {
      "cell_type": "markdown",
      "source": [
        "`print()` is a function itself, more accurately a predefined fucntion by Python so you do not need to define it, we just call it. And it displays the outcome of whatever you write.\n",
        "```python\n",
        "print(\"If you have any problem, ask me!\")\n",
        "```\n",
        "**OUTPUT** → If you have any problem, ask me!\n",
        "\n",
        "\n",
        "```python\n",
        "print(90+11)\n",
        "```\n",
        "**OUTPUT** → 101"
      ],
      "metadata": {
        "id": "VD4McLShZAda"
      },
      "id": "VD4McLShZAda"
    },
    {
      "cell_type": "markdown",
      "source": [
        "## Conditions"
      ],
      "metadata": {
        "id": "jU1DUDEsAdeZ"
      },
      "id": "jU1DUDEsAdeZ"
    },
    {
      "cell_type": "code",
      "source": [
        "# write the correction here\n",
        "\n",
        "\n",
        "if age > 60:\n",
        "  print(\"Retired\")\n",
        "elif age >= 40 and age < 60:\n",
        "  print(\"Working Adult\")\n",
        "elif age >= 18 and age < 40:\n",
        "  print(\"Young\")\n",
        "elif age >= 13 and age < 18:\n",
        "  print(\"Teenage\")\n",
        "else:\n",
        "  print(\"Child\")"
      ],
      "metadata": {
        "id": "wSVxLFf5AilS",
        "outputId": "70d32ff8-762a-4c68-cba7-3e6dda074e2b",
        "colab": {
          "base_uri": "https://localhost:8080/",
          "height": 211
        }
      },
      "id": "wSVxLFf5AilS",
      "execution_count": 4,
      "outputs": [
        {
          "output_type": "error",
          "ename": "NameError",
          "evalue": "name 'age' is not defined",
          "traceback": [
            "\u001b[0;31m---------------------------------------------------------------------------\u001b[0m",
            "\u001b[0;31mNameError\u001b[0m                                 Traceback (most recent call last)",
            "\u001b[0;32m<ipython-input-4-d97fa8e33126>\u001b[0m in \u001b[0;36m<cell line: 4>\u001b[0;34m()\u001b[0m\n\u001b[1;32m      2\u001b[0m \u001b[0;34m\u001b[0m\u001b[0m\n\u001b[1;32m      3\u001b[0m \u001b[0;34m\u001b[0m\u001b[0m\n\u001b[0;32m----> 4\u001b[0;31m \u001b[0;32mif\u001b[0m \u001b[0mage\u001b[0m \u001b[0;34m>\u001b[0m \u001b[0;36m60\u001b[0m\u001b[0;34m:\u001b[0m\u001b[0;34m\u001b[0m\u001b[0;34m\u001b[0m\u001b[0m\n\u001b[0m\u001b[1;32m      5\u001b[0m   \u001b[0mprint\u001b[0m\u001b[0;34m(\u001b[0m\u001b[0;34m\"Retired\"\u001b[0m\u001b[0;34m)\u001b[0m\u001b[0;34m\u001b[0m\u001b[0;34m\u001b[0m\u001b[0m\n\u001b[1;32m      6\u001b[0m \u001b[0;32melif\u001b[0m \u001b[0mage\u001b[0m \u001b[0;34m>=\u001b[0m \u001b[0;36m40\u001b[0m \u001b[0;32mand\u001b[0m \u001b[0mage\u001b[0m \u001b[0;34m<\u001b[0m \u001b[0;36m60\u001b[0m\u001b[0;34m:\u001b[0m\u001b[0;34m\u001b[0m\u001b[0;34m\u001b[0m\u001b[0m\n",
            "\u001b[0;31mNameError\u001b[0m: name 'age' is not defined"
          ]
        }
      ]
    },
    {
      "cell_type": "markdown",
      "source": [
        "**This will give you an error** as you have not define `age` yet. So, try to define a variable called `age` and give it a number.\n",
        "\n",
        "<details>\n",
        "  <summary>Click here to see the solution</summary>\n",
        "  <pre>\n",
        "  age = 22\n",
        "  if age > 60:\n",
        "    print(\"Retired\")\n",
        "  elif age >= 40 and age < 60:\n",
        "    print(\"Working Adult\")\n",
        "  elif age >= 18 and age < 40:\n",
        "    print(\"Young\")\n",
        "  elif age >= 13 and age < 18:\n",
        "    print(\"Teenage\")\n",
        "  else:\n",
        "    print(\"Child\")\n",
        "  </pre>\n",
        "</details>"
      ],
      "metadata": {
        "id": "ttD4COGPak2s"
      },
      "id": "ttD4COGPak2s"
    }
  ],
  "metadata": {
    "kernelspec": {
      "display_name": "Python 3",
      "language": "python",
      "name": "python3"
    },
    "language_info": {
      "codemirror_mode": {
        "name": "ipython",
        "version": 3
      },
      "file_extension": ".py",
      "mimetype": "text/x-python",
      "name": "python",
      "nbconvert_exporter": "python",
      "pygments_lexer": "ipython3",
      "version": "3.8.8"
    },
    "colab": {
      "provenance": []
    }
  },
  "nbformat": 4,
  "nbformat_minor": 5
}