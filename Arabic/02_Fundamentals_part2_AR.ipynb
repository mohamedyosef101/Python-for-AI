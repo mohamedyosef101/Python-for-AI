{
  "cells": [
    {
      "cell_type": "markdown",
      "metadata": {
        "id": "view-in-github",
        "colab_type": "text"
      },
      "source": [
        "<a href=\"https://colab.research.google.com/github/mohamedyosef101/Python-for-AI/blob/main/Arabic/02_Fundamentals_part2_AR.ipynb\" target=\"_parent\"><img src=\"https://colab.research.google.com/assets/colab-badge.svg\" alt=\"Open In Colab\"/></a>"
      ]
    },
    {
      "cell_type": "markdown",
      "source": [
        "# محاضرة 3. الأساسيات الجزء الثاني"
      ],
      "metadata": {
        "id": "lq4nGKrrjKJD"
      },
      "id": "lq4nGKrrjKJD"
    },
    {
      "cell_type": "markdown",
      "source": [
        "## أنواع متقدمة من البيانات (هياكل البيانات)\n",
        "في المحاضرة السابقة، تحدثنا عن الأنواع الأساسية من البيانات وحالياً سنوجه تركيزنا على ما هو أكثر تعقيداً وهو كيفية هيكلة تلك الأنواع الأساسية معاً.\n",
        "\n",
        "Basic data types ↪ integers, floats, booleans, and strings\n",
        "\n",
        "Built-in data structures ↪ lists, sets, tupes, and dictionaries"
      ],
      "metadata": {
        "id": "N-Fvfkalh0BT"
      },
      "id": "N-Fvfkalh0BT"
    },
    {
      "cell_type": "markdown",
      "source": [
        "### Lists\n",
        "A list is a collection of items and each item can be a basic data type (integer, float, string, bool) or even and an advanced one (another data structure).\n",
        "\n",
        "\n",
        "يعني مجموعة من العناصر متجمعة مع بعضها البعض وليكن قائمة تسوق على سبيل المثال أو دعونا نرى أمثلة أخرى في الأكواد"
      ],
      "metadata": {
        "id": "6F20xF-znCrC"
      },
      "id": "6F20xF-znCrC"
    },
    {
      "cell_type": "code",
      "source": [
        "# قائمة بالأعداد من الصفر إلى التسعة\n",
        "numbers = [0, 1, 2, 3, 4, 5, 6, 7, 8, 9]\n",
        "type1 = type(numbers) # لمعرفة النوع هل هو قائمة أم لا\n",
        "\n",
        "# قائمة أخرى عبارة عن تجميعة من أنواع مختلفة للبيانات\n",
        "my_list = [1, \"fundamentals\", True, 2.0, \"Part 2\", [1, 2]]\n",
        "type2 = type(my_list) # للتأكد أن النوع لازال قائمة\n",
        "\n",
        "# display the results\n",
        "print(f\"numbers is a {type1}, and my_list is a {type2}\")"
      ],
      "metadata": {
        "id": "RJ_EWt-2nwRc",
        "outputId": "5a555aec-2435-43e7-9023-d98eea8a5c48",
        "colab": {
          "base_uri": "https://localhost:8080/"
        }
      },
      "id": "RJ_EWt-2nwRc",
      "execution_count": null,
      "outputs": [
        {
          "output_type": "stream",
          "name": "stdout",
          "text": [
            "numbers is a <class 'list'>, and my_list is a <class 'list'>\n"
          ]
        }
      ]
    },
    {
      "cell_type": "markdown",
      "source": [
        "كما ترى، قمت بإنشاء قائمتين وسجلتهم في متغيرات. من ثم قمت بفحص أنواعهم باستخدام دالة\n",
        "\n",
        "`type()`\n",
        "وهي الدالة التى تساعدنا في تحديد نوع البيان\n",
        "\n",
        "`print()`\n",
        "تعرض ناتج أياً يكن ما نكتبه بداخلها\n",
        "\n",
        "`f\"\"`\n",
        "لتنسيق شكل الناتج النهائي للدالة\n",
        "\n",
        " `{ }`\n",
        " وهذه الأقواس نضع بداخلها المتغيرات\n"
      ],
      "metadata": {
        "id": "zFrLSLFhpVnV"
      },
      "id": "zFrLSLFhpVnV"
    },
    {
      "cell_type": "markdown",
      "source": [
        "**انتظر**\n",
        "\n",
        "نستطيع أن نقوم بالعديد من الأشياء باستخدام القوائم، لنرى"
      ],
      "metadata": {
        "id": "HLkTdG1lrQxJ"
      },
      "id": "HLkTdG1lrQxJ"
    },
    {
      "cell_type": "markdown",
      "source": [
        "**Index**\n",
        "\n",
        "Every item has a number (refers to the position of the item). The first element in the list gets number zero as its position while the second element gets one and so on.\n",
        "\n",
        "باختصار رقم يعبر عن مكان العنصر والأرقام تبدأ من الصفر يعبر عن أول عنصر والواحد يعبر عن ثاني عنصر وهكذا"
      ],
      "metadata": {
        "id": "xC7-aqyPr7Ff"
      },
      "id": "xC7-aqyPr7Ff"
    },
    {
      "cell_type": "code",
      "source": [
        "# create new list\n",
        "names = [\"Mohamed\", \"Yosef\", \"Faiz\", \"Ibrahim\"]\n",
        "\n",
        "# what is the index of \"Faiz\"\n",
        "names.index(\"Faiz\")"
      ],
      "metadata": {
        "id": "xFcLBW79rqRd",
        "outputId": "fdd6a3e4-5404-41b1-a38a-fc8b70c4f0d8",
        "colab": {
          "base_uri": "https://localhost:8080/"
        }
      },
      "id": "xFcLBW79rqRd",
      "execution_count": null,
      "outputs": [
        {
          "output_type": "execute_result",
          "data": {
            "text/plain": [
              "2"
            ]
          },
          "metadata": {},
          "execution_count": 5
        }
      ]
    },
    {
      "cell_type": "markdown",
      "source": [
        "> لو بنكتب في ملف \"اسكريبت\" وليس \"نوت بوك\" فسوف نضطر لاستخدام دالة الطباعة لعرض النتائج\n",
        "\n",
        " `print()` هذه هي دالة الطباعة"
      ],
      "metadata": {
        "id": "nSUjlAZmtVcq"
      },
      "id": "nSUjlAZmtVcq"
    },
    {
      "cell_type": "code",
      "source": [
        "# معرفة أول عنصر في القائمة\n",
        "names[0]"
      ],
      "metadata": {
        "id": "WTxqt8feteYu",
        "outputId": "fdd9a818-edc3-47a1-f4d6-4682ea0647a6",
        "colab": {
          "base_uri": "https://localhost:8080/",
          "height": 35
        }
      },
      "id": "WTxqt8feteYu",
      "execution_count": null,
      "outputs": [
        {
          "output_type": "execute_result",
          "data": {
            "text/plain": [
              "'Mohamed'"
            ],
            "application/vnd.google.colaboratory.intrinsic+json": {
              "type": "string"
            }
          },
          "metadata": {},
          "execution_count": 6
        }
      ]
    },
    {
      "cell_type": "code",
      "source": [
        "# أخذ جزء من القائمة\n",
        "names[0:2]\n",
        "\n",
        "\"\"\"\n",
        "this will give us the elements in indexs 0, 1 (not 2 since it is our stop)\n",
        "\"\"\""
      ],
      "metadata": {
        "id": "tWjM3hVrtxKu"
      },
      "id": "tWjM3hVrtxKu",
      "execution_count": null,
      "outputs": []
    },
    {
      "cell_type": "markdown",
      "source": [
        "The thing I wrote inside trible quotes `\"\"\" \"\"\"` called docstring (or a long comment if you want)"
      ],
      "metadata": {
        "id": "aAFo9VxguLsD"
      },
      "id": "aAFo9VxguLsD"
    },
    {
      "cell_type": "code",
      "source": [
        "# get the last element\n",
        "names[-1]"
      ],
      "metadata": {
        "id": "2I9l-s8afMUL"
      },
      "id": "2I9l-s8afMUL",
      "execution_count": null,
      "outputs": []
    },
    {
      "cell_type": "code",
      "source": [
        "# I want to add a name in the list\n",
        "names.append(\"Hassan\")\n",
        "\n",
        "print(names)"
      ],
      "metadata": {
        "id": "Ala1C5EVvbFC",
        "outputId": "6a4081fc-c058-4f08-8ebc-e567427802eb",
        "colab": {
          "base_uri": "https://localhost:8080/"
        }
      },
      "id": "Ala1C5EVvbFC",
      "execution_count": null,
      "outputs": [
        {
          "output_type": "stream",
          "name": "stdout",
          "text": [
            "['Mohamed', 'Yosef', 'Faiz', 'Ibrahim', 'Hassan']\n"
          ]
        }
      ]
    },
    {
      "cell_type": "code",
      "source": [
        "# No, let's remove it\n",
        "names.remove(\"Hassan\")\n",
        "\n",
        "print(names)"
      ],
      "metadata": {
        "id": "_zF79Pxlvl_Y",
        "outputId": "b3ff998e-dbfb-4e14-cbb4-723039c883a4",
        "colab": {
          "base_uri": "https://localhost:8080/"
        }
      },
      "id": "_zF79Pxlvl_Y",
      "execution_count": null,
      "outputs": [
        {
          "output_type": "stream",
          "name": "stdout",
          "text": [
            "['Mohamed', 'Yosef', 'Faiz', 'Ibrahim']\n"
          ]
        }
      ]
    },
    {
      "cell_type": "markdown",
      "source": [
        "At the end this (adding and removing) is what makes lists useful and special."
      ],
      "metadata": {
        "id": "2cEnLXCHv36B"
      },
      "id": "2cEnLXCHv36B"
    },
    {
      "cell_type": "markdown",
      "source": [
        "### Tuples\n",
        "Tupels are like lists, but they are immutable, meaning once you create a tupel, you can't change its content"
      ],
      "metadata": {
        "id": "ay2SpgK4wUkm"
      },
      "id": "ay2SpgK4wUkm"
    },
    {
      "cell_type": "code",
      "source": [
        "# create a tuple\n",
        "o = (0, 0) # origin point in 2D\n",
        "\n",
        "\"\"\"\n",
        "You cannot edit a tuple but you can slice it\n",
        "\"\"\"\n",
        "\n",
        "print(o[1])"
      ],
      "metadata": {
        "id": "dtZ4pGjmwihJ",
        "outputId": "b8621351-60e7-4d48-caaa-f20532bf3e7f",
        "colab": {
          "base_uri": "https://localhost:8080/"
        }
      },
      "id": "dtZ4pGjmwihJ",
      "execution_count": null,
      "outputs": [
        {
          "output_type": "stream",
          "name": "stdout",
          "text": [
            "0\n"
          ]
        }
      ]
    },
    {
      "cell_type": "markdown",
      "source": [
        "### Sets\n",
        "Sets are collections of unique (non repeatitive) items. They are unordered, meaning they don't keep order of items."
      ],
      "metadata": {
        "id": "rSfCihxqxg-0"
      },
      "id": "rSfCihxqxg-0"
    },
    {
      "cell_type": "code",
      "source": [
        "things = {\"pen\", \"paper\", \"pincle\"}\n",
        "print(type(things))"
      ],
      "metadata": {
        "id": "SYHCRz4tx5jD",
        "outputId": "134152cd-67ba-4e63-ace2-493c08ca7690",
        "colab": {
          "base_uri": "https://localhost:8080/"
        }
      },
      "id": "SYHCRz4tx5jD",
      "execution_count": null,
      "outputs": [
        {
          "output_type": "stream",
          "name": "stdout",
          "text": [
            "<class 'set'>\n"
          ]
        }
      ]
    },
    {
      "cell_type": "code",
      "source": [
        "# we can add and remove but no slicing\n",
        "things.add(\"book\")\n",
        "things.remove(\"paper\")\n",
        "print(things)"
      ],
      "metadata": {
        "id": "p0zdqKFryKXk",
        "outputId": "65ffb239-9610-439f-9b50-74a9309629eb",
        "colab": {
          "base_uri": "https://localhost:8080/"
        }
      },
      "id": "p0zdqKFryKXk",
      "execution_count": null,
      "outputs": [
        {
          "output_type": "stream",
          "name": "stdout",
          "text": [
            "{'book', 'pincle', 'pen'}\n"
          ]
        }
      ]
    },
    {
      "cell_type": "code",
      "source": [
        "# even if I add book again\n",
        "# it will not be written twice\n",
        "things.add(\"book\")\n",
        "print(things)"
      ],
      "metadata": {
        "id": "NL-HNkjiydzH",
        "outputId": "04debf82-5bbf-4702-c3d2-74e626af9325",
        "colab": {
          "base_uri": "https://localhost:8080/"
        }
      },
      "id": "NL-HNkjiydzH",
      "execution_count": null,
      "outputs": [
        {
          "output_type": "stream",
          "name": "stdout",
          "text": [
            "{'book', 'pincle', 'pen'}\n"
          ]
        }
      ]
    },
    {
      "cell_type": "markdown",
      "source": [
        "### Dictionaries\n",
        "Dictionaries are collectionas of key-value pairs, like a real-world dictionary where you look up a word (key) to get its definition (value)."
      ],
      "metadata": {
        "id": "Jovrv2tuyvvR"
      },
      "id": "Jovrv2tuyvvR"
    },
    {
      "cell_type": "code",
      "source": [
        "my_info = {\"name\": \"Mohamed\", \"id\": 101, \"city\": \"Mansoura\"}\n",
        "print(type(my_info))"
      ],
      "metadata": {
        "id": "N7Dcub9-ze0Y",
        "outputId": "70a5544a-017e-4cd4-c47c-9c708e581eb3",
        "colab": {
          "base_uri": "https://localhost:8080/"
        }
      },
      "id": "N7Dcub9-ze0Y",
      "execution_count": null,
      "outputs": [
        {
          "output_type": "stream",
          "name": "stdout",
          "text": [
            "<class 'dict'>\n"
          ]
        }
      ]
    },
    {
      "cell_type": "code",
      "source": [
        "# search by key\n",
        "print(my_info[\"name\"])"
      ],
      "metadata": {
        "id": "ZKK_yZLzz31v",
        "outputId": "1df88e4f-0698-4f61-d570-a64ef6785434",
        "colab": {
          "base_uri": "https://localhost:8080/"
        }
      },
      "id": "ZKK_yZLzz31v",
      "execution_count": null,
      "outputs": [
        {
          "output_type": "stream",
          "name": "stdout",
          "text": [
            "Mohamed\n"
          ]
        }
      ]
    },
    {
      "cell_type": "code",
      "source": [
        "# adding or updating value\n",
        "my_info[\"email\"] = \"mohamedyosef101@outlook.com\"\n",
        "print(my_info)"
      ],
      "metadata": {
        "id": "M5hLOpsf0DI4",
        "outputId": "21ded80c-59b8-4214-cdd3-8e775cc0f615",
        "colab": {
          "base_uri": "https://localhost:8080/"
        }
      },
      "id": "M5hLOpsf0DI4",
      "execution_count": null,
      "outputs": [
        {
          "output_type": "stream",
          "name": "stdout",
          "text": [
            "{'name': 'Mohamed', 'id': 101, 'city': 'Mansoura', 'email': 'mohamedyosef101@outlook.com'}\n"
          ]
        }
      ]
    },
    {
      "cell_type": "code",
      "source": [
        "# remove key-value pairs\n",
        "del my_info[\"id\"]\n",
        "print(my_info)"
      ],
      "metadata": {
        "id": "KoQfseMU0RgC",
        "outputId": "3f2252b7-1afc-4fa5-8beb-548cc4bc684d",
        "colab": {
          "base_uri": "https://localhost:8080/"
        }
      },
      "id": "KoQfseMU0RgC",
      "execution_count": null,
      "outputs": [
        {
          "output_type": "stream",
          "name": "stdout",
          "text": [
            "{'name': 'Mohamed', 'city': 'Mansoura', 'email': 'mohamedyosef101@outlook.com'}\n"
          ]
        }
      ]
    },
    {
      "cell_type": "markdown",
      "source": [
        "Dictionaries are perfect for when you need to quickly retrieve a value based on a unique key."
      ],
      "metadata": {
        "id": "lxGUF0BV0gQF"
      },
      "id": "lxGUF0BV0gQF"
    },
    {
      "cell_type": "markdown",
      "source": [
        "## Do you remember strings?"
      ],
      "metadata": {
        "id": "G1PUeQC_0tvi"
      },
      "id": "G1PUeQC_0tvi"
    },
    {
      "cell_type": "markdown",
      "source": [
        "Well, strings are sequences of characters (most of the times) enclosed in quotes (single, double, or triple quotes like docstrings)."
      ],
      "metadata": {
        "id": "JcjeNkdm9Z58"
      },
      "id": "JcjeNkdm9Z58"
    },
    {
      "cell_type": "code",
      "source": [
        "double_quotes = \"Hello, World!\"\n",
        "# we can also say:\n",
        "single_quotes = 'Hello, World!'\n",
        "\n",
        "# let's see they are both the same\n",
        "print(double_quotes == single_quotes)"
      ],
      "metadata": {
        "id": "xBPQvvLW-H3j",
        "outputId": "9380f302-ddaa-41dd-d267-981979d2883e",
        "colab": {
          "base_uri": "https://localhost:8080/"
        }
      },
      "id": "xBPQvvLW-H3j",
      "execution_count": null,
      "outputs": [
        {
          "output_type": "stream",
          "name": "stdout",
          "text": [
            "True\n"
          ]
        }
      ]
    },
    {
      "cell_type": "code",
      "source": [
        "# what about triple quotes\n",
        "triple_quotes = \"\"\"Hello, World!\"\"\"\n",
        "print(double_quotes == triple_quotes)"
      ],
      "metadata": {
        "id": "KFHQZFGq_EcG",
        "outputId": "8560ddf2-4c1f-43ac-bfbb-d7be5feefe79",
        "colab": {
          "base_uri": "https://localhost:8080/"
        }
      },
      "id": "KFHQZFGq_EcG",
      "execution_count": null,
      "outputs": [
        {
          "output_type": "stream",
          "name": "stdout",
          "text": [
            "True\n"
          ]
        }
      ]
    },
    {
      "cell_type": "markdown",
      "source": [
        "The difference is that if we have a word like `I'm` then we cannot put it in a single quotes because it may cause some confusion. An if we want to write more than one line, we will need to use triple quotes."
      ],
      "metadata": {
        "id": "VqrMczpm_0US"
      },
      "id": "VqrMczpm_0US"
    },
    {
      "cell_type": "code",
      "source": [
        "# Note: the following is a docstring\n",
        "\n",
        "\"\"\"\n",
        "This docstring used to document our work.\n",
        "And clarify what it needs to work effectively (e.g. input, outputs, etc.)\n",
        "But if we stored it in variable, it became a value and will not be ignored any more.\n",
        "\"\"\"\n",
        "\n",
        "# Now, the following is just a string\n",
        "text = \"\"\"It's always better to try this code by yourself.\n",
        "        Do not be afraid to try and fail. (It's okay!).\n",
        "        Edison failed nearly 1000 times before he created the first lamp.\"\"\"\n",
        "\n",
        "# find the length of the string (also work for lists)\n",
        "print(f\"There are {len(text)} characters including spaces and symbols\")"
      ],
      "metadata": {
        "id": "avwZvaEtbcQF",
        "outputId": "ddd391df-a132-4c67-8e91-552ce19799bf",
        "colab": {
          "base_uri": "https://localhost:8080/"
        }
      },
      "id": "avwZvaEtbcQF",
      "execution_count": null,
      "outputs": [
        {
          "output_type": "stream",
          "name": "stdout",
          "text": [
            "There are 180 characters including spaces and symbols\n"
          ]
        }
      ]
    },
    {
      "cell_type": "code",
      "source": [
        "# changing letter case\n",
        "username = \"MohamedYosef101\"\n",
        "username.upper()"
      ],
      "metadata": {
        "id": "wFJsGqAmgj0N",
        "outputId": "85f9a82b-361e-4d71-e8ce-69ef04473629",
        "colab": {
          "base_uri": "https://localhost:8080/",
          "height": 35
        }
      },
      "id": "wFJsGqAmgj0N",
      "execution_count": null,
      "outputs": [
        {
          "output_type": "execute_result",
          "data": {
            "text/plain": [
              "'MOHAMEDYOSEF101'"
            ],
            "application/vnd.google.colaboratory.intrinsic+json": {
              "type": "string"
            }
          },
          "metadata": {},
          "execution_count": 3
        }
      ]
    },
    {
      "cell_type": "code",
      "source": [
        "username.lower()"
      ],
      "metadata": {
        "id": "qgiAf5LlhXkL",
        "outputId": "a32c5861-a114-4135-e852-c006370fc1db",
        "colab": {
          "base_uri": "https://localhost:8080/",
          "height": 35
        }
      },
      "id": "qgiAf5LlhXkL",
      "execution_count": null,
      "outputs": [
        {
          "output_type": "execute_result",
          "data": {
            "text/plain": [
              "'mohamedyosef101'"
            ],
            "application/vnd.google.colaboratory.intrinsic+json": {
              "type": "string"
            }
          },
          "metadata": {},
          "execution_count": 4
        }
      ]
    },
    {
      "cell_type": "code",
      "source": [
        "# replacing a substring\n",
        "username.replace('101', '102')"
      ],
      "metadata": {
        "id": "0dxBAd5Dhedz",
        "outputId": "da221057-e084-48bc-972e-883ddc189348",
        "colab": {
          "base_uri": "https://localhost:8080/",
          "height": 35
        }
      },
      "id": "0dxBAd5Dhedz",
      "execution_count": null,
      "outputs": [
        {
          "output_type": "execute_result",
          "data": {
            "text/plain": [
              "'MohamedYosef102'"
            ],
            "application/vnd.google.colaboratory.intrinsic+json": {
              "type": "string"
            }
          },
          "metadata": {},
          "execution_count": 5
        }
      ]
    },
    {
      "cell_type": "code",
      "source": [
        "# usign f-strings\n",
        "lecture_no = 2\n",
        "lecture_title = \"Fundamentals part 2\"\n",
        "\n",
        "# there are three ways to do the following\n",
        "\n",
        "option_1 = f\"This was everything in lecture {2}: {lecture_title}.\"\n",
        "\n",
        "option_2 = \"This was everything in lecture {}: {}.\".format(lecture_no, lecture_title)\n",
        "\n",
        "option_3 = \"This was everything in lecture %d: %s.\" % (lecture_no, lecture_title)\n"
      ],
      "metadata": {
        "id": "MeKRBjgriEQP"
      },
      "id": "MeKRBjgriEQP",
      "execution_count": null,
      "outputs": []
    },
    {
      "cell_type": "markdown",
      "source": [
        "## TASK"
      ],
      "metadata": {
        "id": "6biw37HikQxJ"
      },
      "id": "6biw37HikQxJ"
    },
    {
      "cell_type": "markdown",
      "source": [
        "Write a program that takes the input in a variable `username` and if the length of the username is more than 16, display that this is too long. Else if the length of the username is less than 16 and bigger than 3, display accepted. Else (when the length is less than 3), display it is too small.\n",
        "\n",
        "<br>\n",
        "\n",
        "<details>\n",
        "<summary>Show the answer</summary>\n",
        "<pre>\n",
        "# create a variable called username\n",
        "username = 'ali'\n",
        "if len(username) > 16:\n",
        "  print(\"This is too long\")\n",
        "elif len(username) < 16 and len(username) > 3:\n",
        "  print(\"Accepted\")\n",
        "else:\n",
        "  print(\"This is too short\")\n",
        "</pre>\n",
        "\n",
        "<p> We can also turn this into a function to make it more efficient</p>\n",
        "\n",
        "<pre>\n",
        "def check_username(username):\n",
        "  if len(username) > 16:\n",
        "    print(\"This is too long\")\n",
        "  elif len(username) < 16 and len(username) > 3:\n",
        "    print(\"Accepted\")\n",
        "  else:\n",
        "    print(\"This is too short\")\n",
        "\n",
        "# call the function\n",
        "check_username(\"try_anything\")\n",
        "</pre>\n",
        "</details>"
      ],
      "metadata": {
        "id": "pGtDmWVykZev"
      },
      "id": "pGtDmWVykZev"
    }
  ],
  "metadata": {
    "kernelspec": {
      "display_name": "Python 3",
      "language": "python",
      "name": "python3"
    },
    "language_info": {
      "codemirror_mode": {
        "name": "ipython",
        "version": 3
      },
      "file_extension": ".py",
      "mimetype": "text/x-python",
      "name": "python",
      "nbconvert_exporter": "python",
      "pygments_lexer": "ipython3",
      "version": "3.8.8"
    },
    "colab": {
      "provenance": [],
      "include_colab_link": true
    }
  },
  "nbformat": 4,
  "nbformat_minor": 5
}