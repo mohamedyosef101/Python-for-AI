{
  "cells": [
    {
      "cell_type": "markdown",
      "metadata": {
        "id": "view-in-github",
        "colab_type": "text"
      },
      "source": [
        "<a href=\"https://colab.research.google.com/github/mohamedyosef101/Python-for-AI/blob/main/02_Fundamentals_part2.ipynb\" target=\"_parent\"><img src=\"https://colab.research.google.com/assets/colab-badge.svg\" alt=\"Open In Colab\"/></a>"
      ]
    },
    {
      "cell_type": "markdown",
      "source": [
        "# Fundamentals part 2"
      ],
      "metadata": {
        "id": "lq4nGKrrjKJD"
      },
      "id": "lq4nGKrrjKJD"
    },
    {
      "cell_type": "markdown",
      "source": [
        "## Advanced Data Types (Data Structures)\n",
        "Earlier, we talked about basic data types (integers, floats, booleans, and strings). Here, we will take those types and organize them in some structure. Okay, in Python, there are four built-in data structures; lists, sets, tupes, and dictionaries. So, what about just looking at them one after another?"
      ],
      "metadata": {
        "id": "N-Fvfkalh0BT"
      },
      "id": "N-Fvfkalh0BT"
    },
    {
      "cell_type": "markdown",
      "source": [
        "### Lists\n",
        "A list is a collection of items and each item can be a basic data type (integer, float, string, bool) or even and an advanced one (another data structure).\n",
        "\n",
        "\n",
        "Okay. Okay. Okay..."
      ],
      "metadata": {
        "id": "6F20xF-znCrC"
      },
      "id": "6F20xF-znCrC"
    },
    {
      "cell_type": "code",
      "source": [
        "# here is a list of numbers from 0 to 9\n",
        "numbers = [0, 1, 2, 3, 4, 5, 6, 7, 8, 9]\n",
        "type1 = type(numbers) # to know the data type of the list :)\n",
        "\n",
        "# another list with more than one data type\n",
        "my_list = [1, \"fundamentals\", True, 2.0, \"Part 2\", [1, 2]]\n",
        "type2 = type(my_list) # make sure that the type is still a list :)\n",
        "\n",
        "# display the results\n",
        "print(f\"numbers is a {type1}, and my_list is a {type2}\")"
      ],
      "metadata": {
        "id": "RJ_EWt-2nwRc",
        "outputId": "5a555aec-2435-43e7-9023-d98eea8a5c48",
        "colab": {
          "base_uri": "https://localhost:8080/"
        }
      },
      "id": "RJ_EWt-2nwRc",
      "execution_count": 4,
      "outputs": [
        {
          "output_type": "stream",
          "name": "stdout",
          "text": [
            "numbers is a <class 'list'>, and my_list is a <class 'list'>\n"
          ]
        }
      ]
    },
    {
      "cell_type": "markdown",
      "source": [
        "As you see I created two lists and stored them in variables `numbers` and `my_list`. Then I checked the data type of each one using `type()` function that we talked about in the first notebook and lecture. Finally, to display the results I used `print()`and if you noticed I didn't just write the variable or even a string between quotes I combined both with a special formate using `f\"\"` so in this case I should write variables inside curly brackets `{ }`.\n"
      ],
      "metadata": {
        "id": "zFrLSLFhpVnV"
      },
      "id": "zFrLSLFhpVnV"
    },
    {
      "cell_type": "markdown",
      "source": [
        "**Wait... Wait... Wait...**\n",
        "\n",
        "There are a lot of things that we can do with lists. So, let's discover more."
      ],
      "metadata": {
        "id": "HLkTdG1lrQxJ"
      },
      "id": "HLkTdG1lrQxJ"
    },
    {
      "cell_type": "markdown",
      "source": [
        "**Index**\n",
        "\n",
        "Every item has a number (refers to the position of the item). The first element in the list gets number zero as its position while the second element gets one and so on."
      ],
      "metadata": {
        "id": "xC7-aqyPr7Ff"
      },
      "id": "xC7-aqyPr7Ff"
    },
    {
      "cell_type": "code",
      "source": [
        "# create new list\n",
        "names = [\"Mohamed\", \"Yosef\", \"Faiz\", \"Ibrahim\"]\n",
        "\n",
        "# what is the index of \"Faiz\"\n",
        "names.index(\"Faiz\")"
      ],
      "metadata": {
        "id": "xFcLBW79rqRd",
        "outputId": "fdd6a3e4-5404-41b1-a38a-fc8b70c4f0d8",
        "colab": {
          "base_uri": "https://localhost:8080/"
        }
      },
      "id": "xFcLBW79rqRd",
      "execution_count": 5,
      "outputs": [
        {
          "output_type": "execute_result",
          "data": {
            "text/plain": [
              "2"
            ]
          },
          "metadata": {},
          "execution_count": 5
        }
      ]
    },
    {
      "cell_type": "markdown",
      "source": [
        "But what if we want to know what is the first element in the list?"
      ],
      "metadata": {
        "id": "nSUjlAZmtVcq"
      },
      "id": "nSUjlAZmtVcq"
    },
    {
      "cell_type": "code",
      "source": [
        "names[0]"
      ],
      "metadata": {
        "id": "WTxqt8feteYu",
        "outputId": "fdd9a818-edc3-47a1-f4d6-4682ea0647a6",
        "colab": {
          "base_uri": "https://localhost:8080/",
          "height": 35
        }
      },
      "id": "WTxqt8feteYu",
      "execution_count": 6,
      "outputs": [
        {
          "output_type": "execute_result",
          "data": {
            "text/plain": [
              "'Mohamed'"
            ],
            "application/vnd.google.colaboratory.intrinsic+json": {
              "type": "string"
            }
          },
          "metadata": {},
          "execution_count": 6
        }
      ]
    },
    {
      "cell_type": "markdown",
      "source": [
        "Since the first element takes index **0**, we got it!"
      ],
      "metadata": {
        "id": "vbau_owktlh4"
      },
      "id": "vbau_owktlh4"
    },
    {
      "cell_type": "code",
      "source": [
        "# take a slice from the list\n",
        "names[0:2]\n",
        "\n",
        "\"\"\"\n",
        "this will give us the elements in indexs 0, 1 (not 2 since it is our stop)\n",
        "\"\"\""
      ],
      "metadata": {
        "id": "tWjM3hVrtxKu"
      },
      "id": "tWjM3hVrtxKu",
      "execution_count": null,
      "outputs": []
    },
    {
      "cell_type": "markdown",
      "source": [
        "The thing I wrote inside trible quotes `\"\"\" \"\"\"` called docstring (or a long comment if you want)"
      ],
      "metadata": {
        "id": "aAFo9VxguLsD"
      },
      "id": "aAFo9VxguLsD"
    },
    {
      "cell_type": "code",
      "source": [
        "# I want to add a name in the list\n",
        "names.append(\"Hassan\")\n",
        "\n",
        "print(names)"
      ],
      "metadata": {
        "id": "Ala1C5EVvbFC",
        "outputId": "6a4081fc-c058-4f08-8ebc-e567427802eb",
        "colab": {
          "base_uri": "https://localhost:8080/"
        }
      },
      "id": "Ala1C5EVvbFC",
      "execution_count": 7,
      "outputs": [
        {
          "output_type": "stream",
          "name": "stdout",
          "text": [
            "['Mohamed', 'Yosef', 'Faiz', 'Ibrahim', 'Hassan']\n"
          ]
        }
      ]
    },
    {
      "cell_type": "code",
      "source": [
        "# No, let's remove it\n",
        "names.remove(\"Hassan\")\n",
        "\n",
        "print(names)"
      ],
      "metadata": {
        "id": "_zF79Pxlvl_Y",
        "outputId": "b3ff998e-dbfb-4e14-cbb4-723039c883a4",
        "colab": {
          "base_uri": "https://localhost:8080/"
        }
      },
      "id": "_zF79Pxlvl_Y",
      "execution_count": 8,
      "outputs": [
        {
          "output_type": "stream",
          "name": "stdout",
          "text": [
            "['Mohamed', 'Yosef', 'Faiz', 'Ibrahim']\n"
          ]
        }
      ]
    },
    {
      "cell_type": "markdown",
      "source": [
        "At the end this (adding and removing) is what makes lists useful and special."
      ],
      "metadata": {
        "id": "2cEnLXCHv36B"
      },
      "id": "2cEnLXCHv36B"
    },
    {
      "cell_type": "markdown",
      "source": [
        "### Tuples\n",
        "Tupels are like lists, but they are immutable, meaning once you create a tupel, you can't change its content"
      ],
      "metadata": {
        "id": "ay2SpgK4wUkm"
      },
      "id": "ay2SpgK4wUkm"
    },
    {
      "cell_type": "code",
      "source": [
        "# create a tuple\n",
        "o = (0, 0) # origin point in 2D\n",
        "\n",
        "\"\"\"\n",
        "You cannot edit a tuple but you can slice it\n",
        "\"\"\"\n",
        "\n",
        "print(o[1])"
      ],
      "metadata": {
        "id": "dtZ4pGjmwihJ",
        "outputId": "b8621351-60e7-4d48-caaa-f20532bf3e7f",
        "colab": {
          "base_uri": "https://localhost:8080/"
        }
      },
      "id": "dtZ4pGjmwihJ",
      "execution_count": 9,
      "outputs": [
        {
          "output_type": "stream",
          "name": "stdout",
          "text": [
            "0\n"
          ]
        }
      ]
    },
    {
      "cell_type": "markdown",
      "source": [
        "### Sets\n",
        "Sets are collections of unique (non repeatitive) items. They are unordered, meaning they don't keep order of items."
      ],
      "metadata": {
        "id": "rSfCihxqxg-0"
      },
      "id": "rSfCihxqxg-0"
    },
    {
      "cell_type": "code",
      "source": [
        "things = {\"pen\", \"paper\", \"pincle\"}\n",
        "print(type(things))"
      ],
      "metadata": {
        "id": "SYHCRz4tx5jD",
        "outputId": "134152cd-67ba-4e63-ace2-493c08ca7690",
        "colab": {
          "base_uri": "https://localhost:8080/"
        }
      },
      "id": "SYHCRz4tx5jD",
      "execution_count": 11,
      "outputs": [
        {
          "output_type": "stream",
          "name": "stdout",
          "text": [
            "<class 'set'>\n"
          ]
        }
      ]
    },
    {
      "cell_type": "code",
      "source": [
        "# we can add and remove but no slicing\n",
        "things.add(\"book\")\n",
        "things.remove(\"paper\")\n",
        "print(things)"
      ],
      "metadata": {
        "id": "p0zdqKFryKXk",
        "outputId": "65ffb239-9610-439f-9b50-74a9309629eb",
        "colab": {
          "base_uri": "https://localhost:8080/"
        }
      },
      "id": "p0zdqKFryKXk",
      "execution_count": 12,
      "outputs": [
        {
          "output_type": "stream",
          "name": "stdout",
          "text": [
            "{'book', 'pincle', 'pen'}\n"
          ]
        }
      ]
    },
    {
      "cell_type": "code",
      "source": [
        "# even if I add book again\n",
        "# it will not be written twice\n",
        "things.add(\"book\")\n",
        "print(things)"
      ],
      "metadata": {
        "id": "NL-HNkjiydzH",
        "outputId": "04debf82-5bbf-4702-c3d2-74e626af9325",
        "colab": {
          "base_uri": "https://localhost:8080/"
        }
      },
      "id": "NL-HNkjiydzH",
      "execution_count": 14,
      "outputs": [
        {
          "output_type": "stream",
          "name": "stdout",
          "text": [
            "{'book', 'pincle', 'pen'}\n"
          ]
        }
      ]
    },
    {
      "cell_type": "markdown",
      "source": [
        "### Dictionaries\n",
        "Dictionaries are collectionas of key-value pairs, like a real-world dictionary where you look up a word (key) to get its definition (value)."
      ],
      "metadata": {
        "id": "Jovrv2tuyvvR"
      },
      "id": "Jovrv2tuyvvR"
    },
    {
      "cell_type": "code",
      "source": [
        "my_info = {\"name\": \"Mohamed\", \"id\": 101, \"city\": \"Mansoura\"}\n",
        "print(type(my_info))"
      ],
      "metadata": {
        "id": "N7Dcub9-ze0Y",
        "outputId": "70a5544a-017e-4cd4-c47c-9c708e581eb3",
        "colab": {
          "base_uri": "https://localhost:8080/"
        }
      },
      "id": "N7Dcub9-ze0Y",
      "execution_count": 15,
      "outputs": [
        {
          "output_type": "stream",
          "name": "stdout",
          "text": [
            "<class 'dict'>\n"
          ]
        }
      ]
    },
    {
      "cell_type": "code",
      "source": [
        "# search by key\n",
        "print(my_info[\"name\"])"
      ],
      "metadata": {
        "id": "ZKK_yZLzz31v",
        "outputId": "1df88e4f-0698-4f61-d570-a64ef6785434",
        "colab": {
          "base_uri": "https://localhost:8080/"
        }
      },
      "id": "ZKK_yZLzz31v",
      "execution_count": 16,
      "outputs": [
        {
          "output_type": "stream",
          "name": "stdout",
          "text": [
            "Mohamed\n"
          ]
        }
      ]
    },
    {
      "cell_type": "code",
      "source": [
        "# adding or updating value\n",
        "my_info[\"email\"] = \"mohamedyosef101@outlook.com\"\n",
        "print(my_info)"
      ],
      "metadata": {
        "id": "M5hLOpsf0DI4",
        "outputId": "21ded80c-59b8-4214-cdd3-8e775cc0f615",
        "colab": {
          "base_uri": "https://localhost:8080/"
        }
      },
      "id": "M5hLOpsf0DI4",
      "execution_count": 17,
      "outputs": [
        {
          "output_type": "stream",
          "name": "stdout",
          "text": [
            "{'name': 'Mohamed', 'id': 101, 'city': 'Mansoura', 'email': 'mohamedyosef101@outlook.com'}\n"
          ]
        }
      ]
    },
    {
      "cell_type": "code",
      "source": [
        "# remove key-value pairs\n",
        "del my_info[\"id\"]\n",
        "print(my_info)"
      ],
      "metadata": {
        "id": "KoQfseMU0RgC",
        "outputId": "3f2252b7-1afc-4fa5-8beb-548cc4bc684d",
        "colab": {
          "base_uri": "https://localhost:8080/"
        }
      },
      "id": "KoQfseMU0RgC",
      "execution_count": 18,
      "outputs": [
        {
          "output_type": "stream",
          "name": "stdout",
          "text": [
            "{'name': 'Mohamed', 'city': 'Mansoura', 'email': 'mohamedyosef101@outlook.com'}\n"
          ]
        }
      ]
    },
    {
      "cell_type": "markdown",
      "source": [
        "Dictionaries are perfect for when you need to quickly retrieve a value based on a unique key."
      ],
      "metadata": {
        "id": "lxGUF0BV0gQF"
      },
      "id": "lxGUF0BV0gQF"
    },
    {
      "cell_type": "markdown",
      "source": [
        "## Do you remember strings?"
      ],
      "metadata": {
        "id": "G1PUeQC_0tvi"
      },
      "id": "G1PUeQC_0tvi"
    }
  ],
  "metadata": {
    "kernelspec": {
      "display_name": "Python 3",
      "language": "python",
      "name": "python3"
    },
    "language_info": {
      "codemirror_mode": {
        "name": "ipython",
        "version": 3
      },
      "file_extension": ".py",
      "mimetype": "text/x-python",
      "name": "python",
      "nbconvert_exporter": "python",
      "pygments_lexer": "ipython3",
      "version": "3.8.8"
    },
    "colab": {
      "provenance": [],
      "include_colab_link": true
    }
  },
  "nbformat": 4,
  "nbformat_minor": 5
}