{
  "cells": [
    {
      "cell_type": "markdown",
      "source": [
        "# Natural Language Processing\n",
        "\n",
        "The earliest computers could only understand binary code, which is a series of 1s and 0s. This is the fundamental language of computer processors, representing on and off states. But with case programming was so hard. To simplify programming, assembly language was introduced. It used mnemonic codes and labels instead of binary, making it slightly easier to write and understand. After assembly, a lot of programming languages rises to bridge the gap between human logic and machine logic.\n",
        "\n",
        "Today, with the sophisticated deep learning models, NLP has come a long way. It has evolved from simple rule-based systems to advanced neural networks that can understand and generate human language with remarkable accuracy.\n",
        "\n",
        "<br>\n",
        "\n",
        "\n",
        "**Project Goal**: understand some information from a list of popular 19th century English books.\n",
        "\n",
        "**Data source:** The amazing library of [Project Gutenberg](https://www.gutenberg.org/).\n",
        "\n",
        "**Knowledge source:** Based on similar project on [HarvardX Python for Research](https://www.edx.org/learn/python/harvard-university-using-python-for-research) course on edX."
      ],
      "metadata": {
        "id": "PnR7r4BeaKcw"
      },
      "id": "PnR7r4BeaKcw"
    },
    {
      "cell_type": "markdown",
      "source": [
        "## 1. Counting Algorithms"
      ],
      "metadata": {
        "id": "E_piUrwLdxdE"
      },
      "id": "E_piUrwLdxdE"
    },
    {
      "cell_type": "markdown",
      "source": [
        "## 2. Downloading the data"
      ],
      "metadata": {
        "id": "_GlKxHNneP1C"
      },
      "id": "_GlKxHNneP1C"
    },
    {
      "cell_type": "markdown",
      "source": [
        "## 3. Some Statistics"
      ],
      "metadata": {
        "id": "soMBwGh2efFB"
      },
      "id": "soMBwGh2efFB"
    },
    {
      "cell_type": "markdown",
      "source": [
        "## 4. Using Pandas"
      ],
      "metadata": {
        "id": "tUpiFfIrej-o"
      },
      "id": "tUpiFfIrej-o"
    }
  ],
  "metadata": {
    "kernelspec": {
      "display_name": "Python 3",
      "language": "python",
      "name": "python3"
    },
    "language_info": {
      "codemirror_mode": {
        "name": "ipython",
        "version": 3
      },
      "file_extension": ".py",
      "mimetype": "text/x-python",
      "name": "python",
      "nbconvert_exporter": "python",
      "pygments_lexer": "ipython3",
      "version": "3.8.8"
    },
    "colab": {
      "provenance": []
    }
  },
  "nbformat": 4,
  "nbformat_minor": 5
}