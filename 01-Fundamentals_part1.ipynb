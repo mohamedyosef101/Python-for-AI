{
  "cells": [
    {
      "cell_type": "markdown",
      "metadata": {
        "id": "view-in-github",
        "colab_type": "text"
      },
      "source": [
        "<a href=\"https://colab.research.google.com/github/mohamedyosef101/Python-for-AI/blob/main/01-Fundamentals_part1.ipynb\" target=\"_parent\"><img src=\"https://colab.research.google.com/assets/colab-badge.svg\" alt=\"Open In Colab\"/></a>"
      ]
    },
    {
      "cell_type": "markdown",
      "source": [
        "# Lecture 1. Fundamentals part 1"
      ],
      "metadata": {
        "id": "w_j1ePRI_FYx"
      },
      "id": "w_j1ePRI_FYx"
    },
    {
      "cell_type": "markdown",
      "source": [
        "As you see in this [series intro](https://youtu.be/KMugVzsG9UM), Python is a well known programming language for many fields. But... We are going to focus our effort in \"Python for AI\"."
      ],
      "metadata": {
        "id": "-pOiDCqp_Kzn"
      },
      "id": "-pOiDCqp_Kzn"
    },
    {
      "cell_type": "markdown",
      "source": [
        "## Variables"
      ],
      "metadata": {
        "id": "-wQ4ceBOADwH"
      },
      "id": "-wQ4ceBOADwH"
    },
    {
      "cell_type": "code",
      "source": [
        "my_name = \"Mohamed Yosef\"\n",
        "user_name = \"mohamedyosef101\""
      ],
      "metadata": {
        "id": "V4s47Qw-_3OC"
      },
      "id": "V4s47Qw-_3OC",
      "execution_count": null,
      "outputs": []
    },
    {
      "cell_type": "markdown",
      "source": [
        "## Data Types"
      ],
      "metadata": {
        "id": "aMUZlXQTAHNf"
      },
      "id": "aMUZlXQTAHNf"
    },
    {
      "cell_type": "code",
      "source": [
        "my_integer = 101\n",
        "my_float = 132.4\n",
        "my_boolean = False\n",
        "my_string = \"You look good today!\""
      ],
      "metadata": {
        "id": "2xE0VHziAJaf"
      },
      "id": "2xE0VHziAJaf",
      "execution_count": null,
      "outputs": []
    },
    {
      "cell_type": "markdown",
      "source": [
        "## Functions"
      ],
      "metadata": {
        "id": "R0acXryvALIv"
      },
      "id": "R0acXryvALIv"
    },
    {
      "cell_type": "code",
      "source": [
        "def greeting(your_name):\n",
        "  print(f\"Hi {your_name}\")\n",
        "greeting(\"Mohamed\")"
      ],
      "metadata": {
        "id": "uRD4LqamAOYj"
      },
      "id": "uRD4LqamAOYj",
      "execution_count": null,
      "outputs": []
    },
    {
      "cell_type": "markdown",
      "source": [
        "## Conditions"
      ],
      "metadata": {
        "id": "jU1DUDEsAdeZ"
      },
      "id": "jU1DUDEsAdeZ"
    },
    {
      "cell_type": "code",
      "source": [
        "if age > 60:\n",
        "  print(\"Retired\")\n",
        "elif age >= 40 and age < 60:\n",
        "  print(\"Working Adult\")\n",
        "elif age >= 18 and age < 40:\n",
        "  print(\"Young\")\n",
        "elif age >= 13 and age < 18:\n",
        "  print(\"Teenage\")\n",
        "else:\n",
        "  print(\"Child\")"
      ],
      "metadata": {
        "id": "wSVxLFf5AilS"
      },
      "id": "wSVxLFf5AilS",
      "execution_count": null,
      "outputs": []
    }
  ],
  "metadata": {
    "kernelspec": {
      "display_name": "Python 3",
      "language": "python",
      "name": "python3"
    },
    "language_info": {
      "codemirror_mode": {
        "name": "ipython",
        "version": 3
      },
      "file_extension": ".py",
      "mimetype": "text/x-python",
      "name": "python",
      "nbconvert_exporter": "python",
      "pygments_lexer": "ipython3",
      "version": "3.8.8"
    },
    "colab": {
      "provenance": [],
      "include_colab_link": true
    }
  },
  "nbformat": 4,
  "nbformat_minor": 5
}